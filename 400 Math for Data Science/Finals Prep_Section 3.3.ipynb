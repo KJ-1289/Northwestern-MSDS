{
 "cells": [
  {
   "cell_type": "markdown",
   "metadata": {},
   "source": [
    "**Section 3.3** An airline with two types of airplanes, P1 and P2, has contracted with a tour group to provide transportation for a minimum of 400 first class, 750 tourist class, and 1500 economy class passengers. For a certain trip, airplane P1 costs \\\\$10,000 to operate and can accommodate 20 first class, 50 tourist class, and 110 economy class passengers. Airplane P2 costs \\\\$8500\n",
    "to operate and can accommodate 18 first class, 30 tourist class and 44 economy class passengers. How many of each type of airplane should be used in order to minimize the operating cost?"
   ]
  },
  {
   "cell_type": "markdown",
   "metadata": {},
   "source": [
    "**Solution:**\n",
    "Let x be the number of P1 airplanes<br>\n",
    "Let x be the number of P2 airplanes<br>\n",
    "\n",
    "Operating cost to be minimized = 10000 x + 8500 y <br>\n",
    "Subject to:\n",
    "* 20 x + 18 y ≥ 400  \n",
    "* 50 x  + 30 y ≥ 750\n",
    "* 110 x  + 44 y ≥ 1500\n",
    "* x ≥ 0, y ≥ 0 <br>"
   ]
  },
  {
   "cell_type": "code",
   "execution_count": 2,
   "metadata": {},
   "outputs": [
    {
     "name": "stdout",
     "output_type": "stream",
     "text": [
      "[ 5.         16.66666667]\n",
      "[10.90909091  6.81818182]\n",
      "[ 8.54545455 12.72727273]\n"
     ]
    }
   ],
   "source": [
    "# Set up the constraints and obtain the corner points\n",
    "import numpy as np\n",
    "\n",
    "a1 = np.array([[20,18], [50,30]])\n",
    "b1 = np.array([400,750])\n",
    "\n",
    "# solve the two sets of equations at a time to get points of intersection of the lines\n",
    "c1 = np.linalg.solve(a1, b1)\n",
    "print(c1)\n",
    "\n",
    "# Second pair of corner points\n",
    "a2 = np.array([[50,30], [110,44]])\n",
    "b2 = np.array([750,1500])\n",
    "c2 = np.linalg.solve(a2, b2)\n",
    "print(c2)\n",
    "\n",
    "# Third pair of corner points\n",
    "a3 = np.array([[20,18], [110,44]])\n",
    "b3 = np.array([400,1500])\n",
    "c3 = np.linalg.solve(a3, b3)\n",
    "print(c3)"
   ]
  },
  {
   "cell_type": "code",
   "execution_count": 3,
   "metadata": {},
   "outputs": [
    {
     "name": "stdout",
     "output_type": "stream",
     "text": [
      "Corner points: \n",
      " [[ 5. 17.]\n",
      " [11.  7.]\n",
      " [ 9. 13.]]\n",
      "Value of each constraint at the corner points : \n",
      " [[ 406.  760. 1298.]\n",
      " [ 346.  760. 1518.]\n",
      " [ 414.  840. 1562.]]\n",
      "Value of Objective Function at Each Corner Point [[194500.]\n",
      " [169500.]\n",
      " [200500.]]\n",
      "Number of P1 airplanes = 9.0\n",
      "Number of P2 airplanes = 13.0\n"
     ]
    }
   ],
   "source": [
    "# Use the corner points of the rounded values and compute dot product to determine the minimum value \n",
    "x= [5., 11., 9.]\n",
    "y= [17., 7., 13.]\n",
    "\n",
    "obj= np.matrix([10000,8500])\n",
    "obj= np.transpose(obj)\n",
    "corners= np.matrix([x,y])\n",
    "corners= np.transpose(corners)\n",
    "result= np.dot(corners,obj)\n",
    "\n",
    "# Check whether constraints are satisfied\n",
    "constraints = np.array([[20,18], [50,30],[110,44]])\n",
    "constraints_dot = np.dot(corners,constraints.T)\n",
    "\n",
    "# Print corner points \n",
    "print(\"Corner points: \\n\",corners)\n",
    "\n",
    "# Verify whether constraints are satisfied at each corner point\n",
    "print(\"Value of each constraint at the corner points : \\n\",constraints_dot)\n",
    "\n",
    "# For (11,7) the first constraint is not satisfied since 20(11) + 18(7) or 346 < 400\n",
    "# So we pick the next set of corner points that produce the minimum\n",
    "print (\"Value of Objective Function at Each Corner Point\", result)\n",
    "\n",
    "print (\"Number of P1 airplanes = {}\".format(x[2]))\n",
    "print (\"Number of P2 airplanes = {}\".format(y[2]))"
   ]
  },
  {
   "cell_type": "code",
   "execution_count": 4,
   "metadata": {},
   "outputs": [
    {
     "data": {
      "text/plain": [
       "matrix([[ 406.,  346.,  414.],\n",
       "        [ 760.,  760.,  840.],\n",
       "        [1298., 1518., 1562.]])"
      ]
     },
     "execution_count": 4,
     "metadata": {},
     "output_type": "execute_result"
    }
   ],
   "source": [
    "constraints = np.array([[20,18], [50,30],[110,44]])\n",
    "\n",
    "np.dot(corners,constraints.T).T"
   ]
  },
  {
   "cell_type": "code",
   "execution_count": null,
   "metadata": {},
   "outputs": [],
   "source": []
  }
 ],
 "metadata": {
  "kernelspec": {
   "display_name": "Python 3",
   "language": "python",
   "name": "python3"
  },
  "language_info": {
   "codemirror_mode": {
    "name": "ipython",
    "version": 3
   },
   "file_extension": ".py",
   "mimetype": "text/x-python",
   "name": "python",
   "nbconvert_exporter": "python",
   "pygments_lexer": "ipython3",
   "version": "3.7.3"
  }
 },
 "nbformat": 4,
 "nbformat_minor": 2
}
