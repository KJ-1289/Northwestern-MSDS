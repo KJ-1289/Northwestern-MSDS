{
 "cells": [
  {
   "cell_type": "markdown",
   "metadata": {},
   "source": [
    "15. An oil tanker is leaking oil at a rate given in barrels per hour by the function shown below, where t is the time in hours after\n",
    "the tanker hits a hidden rock (when t = 0). Complete parts (a) through (c).\n",
    "L′(t) =\n",
    "62 ln (t + 1)/\n",
    "t + 1\n",
    "\n",
    "<br>(a) Find the total number of barrels that the ship will leak on the first day.\n",
    "<br>(b) Find the total number of barrels that the ship will leak on the second day."
   ]
  },
  {
   "cell_type": "code",
   "execution_count": 2,
   "metadata": {},
   "outputs": [
    {
     "name": "stdout",
     "output_type": "stream",
     "text": [
      "The total number of barrels that the ship will leak on the first day = 321\n"
     ]
    }
   ],
   "source": [
    "# Growth Function\n",
    "\n",
    "import math\n",
    "\n",
    "def f(t):\n",
    "    f = 62*math.log(t+1)/(t+1)\n",
    "    return f\n",
    "\n",
    "# Integrate is a general numerical integration function.  It requires\n",
    "# an interval [a,b] and n = the number of subintervals used for integration.\n",
    "# Integrate uses the function defined as f above.  For details refer\n",
    "# to Lial Section 15.3.\n",
    "\n",
    "def integrate(a,b,n):\n",
    "    sum = 0.0\n",
    "    delta = (b-a)/n\n",
    "    i = 0\n",
    "    while i < n:\n",
    "        sum = sum + delta*(f(a+delta*(i+1))+f(a+delta*i))/2\n",
    "        i = i+1\n",
    "    return sum\n",
    "\n",
    "# Barrels leaked on first day \n",
    "b = 24.0\n",
    "a = 0.0\n",
    "n = 100\n",
    "\n",
    "first_day_leak = round(integrate(a,b,n),3)\n",
    "\n",
    "print (\"The total number of barrels that the ship will leak on the first day = {:.0f}\".format(first_day_leak))"
   ]
  },
  {
   "cell_type": "code",
   "execution_count": 3,
   "metadata": {},
   "outputs": [
    {
     "name": "stdout",
     "output_type": "stream",
     "text": [
      "The total number of barrels that the ship will leak on the second day = 148\n"
     ]
    }
   ],
   "source": [
    "# Barrels leaked on second day \n",
    "\n",
    "b = 48.0\n",
    "a = 24.0\n",
    "n = 100\n",
    "\n",
    "second_day_leak = round(integrate(a,b,n),3)\n",
    "\n",
    "print (\"The total number of barrels that the ship will leak on the second day = {:.0f}\".format(second_day_leak))"
   ]
  },
  {
   "cell_type": "markdown",
   "metadata": {},
   "source": [
    "(C) What is happening over the long run to the amount of oil leaked per​ day? "
   ]
  },
  {
   "cell_type": "code",
   "execution_count": null,
   "metadata": {},
   "outputs": [],
   "source": []
  }
 ],
 "metadata": {
  "kernelspec": {
   "display_name": "Python 3",
   "language": "python",
   "name": "python3"
  },
  "language_info": {
   "codemirror_mode": {
    "name": "ipython",
    "version": 3
   },
   "file_extension": ".py",
   "mimetype": "text/x-python",
   "name": "python",
   "nbconvert_exporter": "python",
   "pygments_lexer": "ipython3",
   "version": "3.7.3"
  }
 },
 "nbformat": 4,
 "nbformat_minor": 2
}
