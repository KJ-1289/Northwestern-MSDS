{
 "cells": [
  {
   "cell_type": "markdown",
   "metadata": {},
   "source": [
    "**2.5** A basketball fieldhouse seats 15,000.  Courtside seats cost \\\\$8.00, endzone seats cost \\\\$6.00, and balcony seats cost \\\\$4.00.  The total revenue for a sellout is \\\\$76,000.  If half the courtside seats, half the balcony seats, and all the endzone seats are sold; then the total revenue is \\\\$44,000.  How many of each type of seat are there?"
   ]
  },
  {
   "cell_type": "markdown",
   "metadata": {},
   "source": [
    "###### Total Number of Seats: x+y+z = 15,000"
   ]
  },
  {
   "cell_type": "markdown",
   "metadata": {},
   "source": [
    "###### Revenue from a Sellout: 8x+6y+4z = 76,000"
   ]
  },
  {
   "cell_type": "markdown",
   "metadata": {},
   "source": [
    "###### When Revenue is 44,000: 4x+3y+4z = 44,000"
   ]
  },
  {
   "cell_type": "code",
   "execution_count": 1,
   "metadata": {},
   "outputs": [
    {
     "name": "stdout",
     "output_type": "stream",
     "text": [
      "Number of courtside seats = 50.0\n",
      "Number of endzone seats = -1.0\n",
      "Number of balcony seats = -2.0\n"
     ]
    }
   ],
   "source": [
    "import numpy as np\n",
    "\n",
    "# Set up the constraints and obtain the points of intersection\n",
    "lhs = np.array([[1,1,1], [115,129,483], [0,-2,1]])\n",
    "rhs = np.array([47,4755,0])\n",
    "\n",
    "# solve the three sets of equations \n",
    "seats = np.linalg.solve(lhs, rhs)\n",
    "\n",
    "print(\"Number of courtside seats = {}\".format(round(seats[0])))\n",
    "print(\"Number of endzone seats = {}\".format(round(seats[1])))\n",
    "print(\"Number of balcony seats = {}\".format(round(seats[2])))"
   ]
  },
  {
   "cell_type": "markdown",
   "metadata": {},
   "source": [
    "**Need to figure out how to filter negative results.  Instructor example is below:"
   ]
  },
  {
   "cell_type": "markdown",
   "metadata": {},
   "source": [
    "**4.** A basketball fieldhouse seats 15,000. Courtside seats cost \\\\$8 , endzone seats cost \\\\$7 , and balcony seats cost \\\\$5. The total revenue for a sellout is \\\\$88000. If half the courtside seats, half the balcony seats, and all the endzone seats are sold; then the total revenue is \\\\$51,000. How many of each type of seat are there?"
   ]
  },
  {
   "cell_type": "markdown",
   "metadata": {},
   "source": [
    "**Solution:** Let c be the maximum number of courtside seats available.\n",
    "Let e be the maximum number of endzone seats available.\n",
    "Let b be the maximum number of balcony seats available.\n",
    "\n",
    "** Total number of seats ** <br/>\n",
    "c + e + b = 15000\n",
    "\n",
    "** Total revenue from sellout ** <br/>\n",
    "8 c + 7e + 5 b = 88000\n",
    "\n",
    "** When revenue is \\$51,000 ** <br/>\n",
    "1/2 (8 c) + 7 e + 1/2 (5 b) = 51000 <br/>\n",
    "=> 4 c + 7 e + 5/2 b = 51000"
   ]
  },
  {
   "cell_type": "code",
   "execution_count": 4,
   "metadata": {},
   "outputs": [
    {
     "name": "stdout",
     "output_type": "stream",
     "text": [
      "Number of courtside seats = 3000.0\n",
      "Number of endzone seats = 2000.0\n",
      "Number of balcony seats = 10000.0\n"
     ]
    }
   ],
   "source": [
    "import numpy as np\n",
    "\n",
    "# Set up the constraints and obtain the points of intersection\n",
    "lhs = np.array([[1,1,1], [8,7,5], [4,7,5/2]])\n",
    "rhs = np.array([15000,88000,51000])\n",
    "\n",
    "# solve the three sets of equations \n",
    "seats = np.linalg.solve(lhs, rhs)\n",
    "\n",
    "print(\"Number of courtside seats = {}\".format(round(seats[0])))\n",
    "print(\"Number of endzone seats = {}\".format(round(seats[1])))\n",
    "print(\"Number of balcony seats = {}\".format(round(seats[2])))"
   ]
  },
  {
   "cell_type": "code",
   "execution_count": 2,
   "metadata": {},
   "outputs": [
    {
     "data": {
      "text/plain": [
       "5405"
      ]
     },
     "execution_count": 2,
     "metadata": {},
     "output_type": "execute_result"
    }
   ],
   "source": [
    "115*47"
   ]
  },
  {
   "cell_type": "code",
   "execution_count": 3,
   "metadata": {},
   "outputs": [
    {
     "data": {
      "text/plain": [
       "345"
      ]
     },
     "execution_count": 3,
     "metadata": {},
     "output_type": "execute_result"
    }
   ],
   "source": [
    "115*3"
   ]
  },
  {
   "cell_type": "code",
   "execution_count": 4,
   "metadata": {},
   "outputs": [
    {
     "data": {
      "text/plain": [
       "166"
      ]
     },
     "execution_count": 4,
     "metadata": {},
     "output_type": "execute_result"
    }
   ],
   "source": [
    "83*2"
   ]
  },
  {
   "cell_type": "code",
   "execution_count": 5,
   "metadata": {},
   "outputs": [
    {
     "data": {
      "text/plain": [
       "-50"
      ]
     },
     "execution_count": 5,
     "metadata": {},
     "output_type": "execute_result"
    }
   ],
   "source": [
    "129+166-345"
   ]
  },
  {
   "cell_type": "code",
   "execution_count": 6,
   "metadata": {},
   "outputs": [
    {
     "data": {
      "text/plain": [
       "-650"
      ]
     },
     "execution_count": 6,
     "metadata": {},
     "output_type": "execute_result"
    }
   ],
   "source": [
    "4755-5405"
   ]
  },
  {
   "cell_type": "code",
   "execution_count": 7,
   "metadata": {},
   "outputs": [
    {
     "data": {
      "text/plain": [
       "13.0"
      ]
     },
     "execution_count": 7,
     "metadata": {},
     "output_type": "execute_result"
    }
   ],
   "source": [
    "650/50"
   ]
  },
  {
   "cell_type": "code",
   "execution_count": 8,
   "metadata": {},
   "outputs": [
    {
     "data": {
      "text/plain": [
       "39"
      ]
     },
     "execution_count": 8,
     "metadata": {},
     "output_type": "execute_result"
    }
   ],
   "source": [
    "26+13"
   ]
  },
  {
   "cell_type": "code",
   "execution_count": 9,
   "metadata": {},
   "outputs": [],
   "source": [
    "x=8\n",
    "y=13\n",
    "z=26\n",
    "\n",
    "bought=x+y+z\n",
    "spent=115*x+129*y+83*z"
   ]
  },
  {
   "cell_type": "code",
   "execution_count": 10,
   "metadata": {},
   "outputs": [
    {
     "data": {
      "text/plain": [
       "47"
      ]
     },
     "execution_count": 10,
     "metadata": {},
     "output_type": "execute_result"
    }
   ],
   "source": [
    "bought"
   ]
  },
  {
   "cell_type": "code",
   "execution_count": 11,
   "metadata": {},
   "outputs": [
    {
     "data": {
      "text/plain": [
       "4755"
      ]
     },
     "execution_count": 11,
     "metadata": {},
     "output_type": "execute_result"
    }
   ],
   "source": [
    "spent"
   ]
  },
  {
   "cell_type": "code",
   "execution_count": null,
   "metadata": {},
   "outputs": [],
   "source": []
  }
 ],
 "metadata": {
  "kernelspec": {
   "display_name": "Python 3",
   "language": "python",
   "name": "python3"
  },
  "language_info": {
   "codemirror_mode": {
    "name": "ipython",
    "version": 3
   },
   "file_extension": ".py",
   "mimetype": "text/x-python",
   "name": "python",
   "nbconvert_exporter": "python",
   "pygments_lexer": "ipython3",
   "version": "3.7.3"
  }
 },
 "nbformat": 4,
 "nbformat_minor": 2
}
