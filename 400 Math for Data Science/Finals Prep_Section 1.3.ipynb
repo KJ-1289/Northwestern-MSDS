{
 "cells": [
  {
   "attachments": {
    "image.png": {
     "image/png": "[encoded data removed]"
    }
   },
   "cell_type": "markdown",
   "metadata": {},
   "source": [
    "**2.** For the following table of data:\n",
    "\n",
    "![image.png](attachment:image.png)\n",
    "\n",
    "\n",
    "<br>**a.** Draw a scatterplot.</br>\n",
    "<br>**b.** Calculate the correlation coefficient.</br>\n",
    "<br>**c.** Calculate the least squares line and graph it on the scatterplot.</br>\n",
    "<br>**d.** Predict the y-value when x is 11.</br>"
   ]
  },
  {
   "cell_type": "code",
   "execution_count": 2,
   "metadata": {},
   "outputs": [
    {
     "name": "stdout",
     "output_type": "stream",
     "text": [
      "\n",
      " b. \n",
      "Option 1: Correlation Coefficient (corrcoef):  0.993\n",
      "Option 2: Correlation Coefficient (pearsonr):  0.993\n",
      "\n",
      " c. Least-squares line\n",
      "Y =  0.55 x +  -0.27\n",
      "\n",
      " d. \n",
      "When x = 11.0, using linregress, we predict that y =  5.8\n",
      "When x = 11.0, using polyfit, we predict that y =  5.8\n"
     ]
    },
    {
     "data": {
      "image/png": "[encoded data removed]",
      "text/plain": [
       "<Figure size 432x288 with 1 Axes>"
      ]
     },
     "metadata": {
      "needs_background": "light"
     },
     "output_type": "display_data"
    },
    {
     "data": {
      "image/png": "[encoded data removed]",
      "text/plain": [
       "<Figure size 432x288 with 1 Axes>"
      ]
     },
     "metadata": {
      "needs_background": "light"
     },
     "output_type": "display_data"
    }
   ],
   "source": [
    "%matplotlib inline\n",
    "\n",
    "# Packages we can use\n",
    "from scipy.stats.stats import pearsonr\n",
    "import scipy.stats as st\n",
    "import numpy as np\n",
    "import matplotlib.pyplot as plt\n",
    "\n",
    "'''\n",
    "a. Draw a scatterplot. \n",
    "Use numpy arrays to store x and y\n",
    "'''\n",
    "x = np.arange(1,11)\n",
    "y = np.array([0.2,0.8,1.2,2.2,2.7,3.2,3.2,4.2,4.7,5.2])\n",
    "\n",
    "plt.figure()\n",
    "plt.title(\"a. Scatterplot\")\n",
    "plt.plot(x, y, 'bs',label='Origial datapoints')\n",
    "plt.xlabel('X')\n",
    "plt.ylabel('Y')\n",
    "\n",
    "\n",
    "'''\n",
    "b. Calculate the correlation coefficient. \n",
    "\n",
    "Two options- using the corrcoef function from numpy or pearsonr function\n",
    "'''\n",
    "\n",
    "print(\"\\n b. \")\n",
    "\n",
    "corr_np = np.corrcoef(x, y)[0, 1]\n",
    "corr_sci = pearsonr(x, y)[0]\n",
    "print(\"Option 1: Correlation Coefficient (corrcoef): \",round(corr_np,3))\n",
    "print(\"Option 2: Correlation Coefficient (pearsonr): \",round(corr_sci,3))\n",
    "\n",
    "'''\n",
    "c. Calculate the least squares line and graph it on the scatterplot. \n",
    "'''\n",
    "'''\n",
    "For deeper exploration of pyplot visit:\n",
    "http://matplotlib.org/api/pyplot_api.html#matplotlib.pyplot\n",
    "'''\n",
    "\n",
    "'''\n",
    "Pass in the parameters x and y to the lingress function of scipy.stats package \n",
    "The function returns 5 values: slope, intercept, rvalue, pvalue, stderr \n",
    "'''\n",
    "slope,intercept,rvalue,pvalue,stderr = st.linregress(x,y)\n",
    "print(\"\\n c. Least-squares line\")\n",
    "\n",
    "\n",
    "print(\"Y = \", round(slope,2), \"x + \",round(intercept,2)) \n",
    "\n",
    "# Scatter plot of the various points and a least-squares fit line\n",
    "plt.figure()\n",
    "plt.title(\"c. Least-squares line\")\n",
    "plt.plot(x, y, 'bs',label='Original points')\n",
    "plt.plot(x, slope*x + intercept, 'r-',label='Least-squares Fit Line')\n",
    "plt.xlabel('X')\n",
    "plt.ylabel('Y')\n",
    "plt.legend()\n",
    "\n",
    "'''\n",
    "d. Predict the y-value when x is 11.\n",
    "\n",
    "Two options - \n",
    "Option 1: Use the linear regression function in scipy.stats.\n",
    "Option 2: Use numpy.polyfit\n",
    "\n",
    "To keep things simple you are mostly concerned with the slope and intercept since\n",
    "these can be used to determine the relationship between x and y\n",
    "'''\n",
    "print(\"\\n d. \")\n",
    "\n",
    "# We have slope and an intercept from the lingress function earlier. That is enough to 'predict' the value between x and y\n",
    "x_val = 11.0\n",
    "predicted = slope*x_val + intercept\n",
    "print('When x = 11.0, using linregress, we predict that y = ', round(predicted,1))\n",
    "\n",
    "''' \n",
    "Option 2) This second option is really useful because you can use this to \n",
    "fit non-linear polynomials as well e.g. y = a*x**2 + b just by\n",
    "specifying the 'degree' of the equation as the third parameter\n",
    "\n",
    "For deeper exploration visit:\n",
    "http://docs.scipy.org/doc/numpy/reference/generated/numpy.polyfit.html \n",
    "'''\n",
    "\n",
    "# pass x, y and a degree of 1 since we know there is a linear relationship\n",
    "slope, intercept = np.polyfit(x, y, 1)\n",
    "\n",
    "# c)\n",
    "x_val = 11.0\n",
    "polyfit_predicted = slope * x_val + intercept\n",
    "print('When x = 11.0, using polyfit, we predict that y = ', round(polyfit_predicted,1))\n"
   ]
  },
  {
   "cell_type": "code",
   "execution_count": null,
   "metadata": {},
   "outputs": [],
   "source": []
  }
 ],
 "metadata": {
  "kernelspec": {
   "display_name": "Python 3",
   "language": "python",
   "name": "python3"
  },
  "language_info": {
   "codemirror_mode": {
    "name": "ipython",
    "version": 3
   },
   "file_extension": ".py",
   "mimetype": "text/x-python",
   "name": "python",
   "nbconvert_exporter": "python",
   "pygments_lexer": "ipython3",
   "version": "3.7.3"
  },
  "varInspector": {
   "cols": {
    "lenName": 16,
    "lenType": 16,
    "lenVar": 40
   },
   "kernels_config": {
    "python": {
     "delete_cmd_postfix": "",
     "delete_cmd_prefix": "del ",
     "library": "var_list.py",
     "varRefreshCmd": "print(var_dic_list())"
    },
    "r": {
     "delete_cmd_postfix": ") ",
     "delete_cmd_prefix": "rm(",
     "library": "var_list.r",
     "varRefreshCmd": "cat(var_dic_list()) "
    }
   },
   "types_to_exclude": [
    "module",
    "function",
    "builtin_function_or_method",
    "instance",
    "_Feature"
   ],
   "window_display": false
  }
 },
 "nbformat": 4,
 "nbformat_minor": 2
}
