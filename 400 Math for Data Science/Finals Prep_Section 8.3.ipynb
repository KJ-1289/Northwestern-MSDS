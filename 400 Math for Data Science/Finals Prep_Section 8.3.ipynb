{
 "cells": [
  {
   "cell_type": "markdown",
   "metadata": {},
   "source": [
    "**Question 8.3** Suppose a box contains 3 red and 3 blue balls.  A ball is selected at random and removed, without observing its color.  The box now contains either 3 red and 2 blue balls or 2 red and 3 blue balls."
   ]
  },
  {
   "cell_type": "markdown",
   "metadata": {},
   "source": [
    "###### A. Nate removes a ball at random from the box, observes its color, and put the ball back. He performs this experiment a total of 6 times, and each time the ball is blue.  What is the probability that a red ball was initially removed from the box?"
   ]
  },
  {
   "cell_type": "code",
   "execution_count": 12,
   "metadata": {},
   "outputs": [
    {
     "name": "stdout",
     "output_type": "stream",
     "text": [
      "The probability that a red ball was initially removed is 0.9192938209331651\n"
     ]
    }
   ],
   "source": [
    "p_a = .5\n",
    "p_ai = .5\n",
    "p_ba = 3/5\n",
    "p_bai = 2/5\n",
    "n = 6\n",
    "\n",
    "p_ab = (p_a * p_ba**n) / ((p_a * p_ba**n)+ (p_ai * p_bai**6))\n",
    "print('The probability that a red ball was initially removed is', p_ab)"
   ]
  },
  {
   "cell_type": "markdown",
   "metadata": {},
   "source": [
    "###### B. Ray removes a ball at random from the box, observes its color, and puts the ball back.  He performs the experiment a total of 79 times.  Out of these, the ball was blue 45 times and red 34 times.  What is the probability that a red ball was initially removed from the box?"
   ]
  },
  {
   "cell_type": "code",
   "execution_count": 13,
   "metadata": {},
   "outputs": [
    {
     "name": "stdout",
     "output_type": "stream",
     "text": [
      "The probability that a red ball was initially removed is 0.98857110968498\n"
     ]
    }
   ],
   "source": [
    "p_a = .5\n",
    "p_ai = .5\n",
    "n_b = 45\n",
    "n_r = 34\n",
    "p_ba = (3/5)**n_b * (2/5)**n_r\n",
    "p_bai = (2/5)**n_b * (3/5)**n_r\n",
    "\n",
    "p_ab = (p_a * p_ba) / ((p_a*p_ba) + (p_ai*p_bai))\n",
    "print('The probability that a red ball was initially removed is', p_ab)"
   ]
  },
  {
   "cell_type": "markdown",
   "metadata": {},
   "source": [
    "###### C. Many people intuitively think that Nate's experiment gives more convincing evidence than Ray's experiment that a red ball was removed.  Explain why this is wrong.\n",
    "\n",
    "i. Compare the experiments.  The probability that a red ball was chosen initially was higher in Ray's experiment.\n",
    "ii. Notice that Ray performed his experiment more times.\n",
    "iii.  Even though Nate pulled the blue ball every time, Ray performed his experiment more times, making it more accurate and showing a higher probability that a red ball was chosen initially."
   ]
  },
  {
   "cell_type": "markdown",
   "metadata": {},
   "source": [
    "Answer: This is wrong because Ray performed his experiment more times, which makes it more accurate."
   ]
  },
  {
   "cell_type": "code",
   "execution_count": null,
   "metadata": {},
   "outputs": [],
   "source": []
  }
 ],
 "metadata": {
  "kernelspec": {
   "display_name": "Python 3",
   "language": "python",
   "name": "python3"
  },
  "language_info": {
   "codemirror_mode": {
    "name": "ipython",
    "version": 3
   },
   "file_extension": ".py",
   "mimetype": "text/x-python",
   "name": "python",
   "nbconvert_exporter": "python",
   "pygments_lexer": "ipython3",
   "version": "3.7.3"
  }
 },
 "nbformat": 4,
 "nbformat_minor": 2
}
