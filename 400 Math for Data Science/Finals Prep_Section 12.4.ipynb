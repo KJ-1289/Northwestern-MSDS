{
 "cells": [
  {
   "cell_type": "markdown",
   "metadata": {},
   "source": [
    "**10.** \n",
    "\n",
    "The projected population of a certain ethnic group(in millions) can be approximated by p(t) = 37.78$(1.027)^{t}$ where t=0\n",
    "corresponds to 2000 and 0 ≤ t ≤ 50\n",
    "<br/>\n",
    "a. Estimate the population of this group for the year 2010.\n",
    "<br/>\n",
    "b. What is the instantaneous rate of change of the population when t = 10?"
   ]
  },
  {
   "cell_type": "code",
   "execution_count": 1,
   "metadata": {},
   "outputs": [
    {
     "name": "stdout",
     "output_type": "stream",
     "text": [
      "The population in 2010 is 49.314 million people.\n",
      "The instantaneous rate of change in the population when t=10 is 1.314 million people per year \n"
     ]
    }
   ],
   "source": [
    "import matplotlib.pyplot \n",
    "from matplotlib.pyplot import *\n",
    "import numpy \n",
    "from numpy import *\n",
    "\n",
    "# Age distribution Function\n",
    "\n",
    "def f(x):\n",
    "    f = 37.78 * (1.027**x) \n",
    "    return f\n",
    "\n",
    "population_in_2010 = round(f(10),3)\n",
    "\n",
    "print (\"The population in 2010 is {} million people.\".format(population_in_2010,'%d'))\n",
    "\n",
    "\n",
    "# A general function for calculating the slope between two points: x and x+delta. \n",
    "# See Lial Section 11.3 dealing with instantaneous rates of change.\n",
    "def der(x, delta):\n",
    "    delta = float(delta)\n",
    "    if delta < 0.0000001:\n",
    "        print('Value chosen for delta is too small.')\n",
    "        return 1 / delta\n",
    "    else:\n",
    "        slope = (f(x + delta) - f(x)) / delta \n",
    "        return slope\n",
    "\n",
    "# The following statements initialize variables for computation.\n",
    "point = 1.0  \n",
    "\n",
    "rate_of_change=round(der(10,0.000001),3)\n",
    "\n",
    "print(\"The instantaneous rate of change in the population when t=10 is {} million people per year \".format(rate_of_change,'%d'))\n"
   ]
  },
  {
   "cell_type": "code",
   "execution_count": null,
   "metadata": {},
   "outputs": [],
   "source": []
  }
 ],
 "metadata": {
  "kernelspec": {
   "display_name": "Python 3",
   "language": "python",
   "name": "python3"
  },
  "language_info": {
   "codemirror_mode": {
    "name": "ipython",
    "version": 3
   },
   "file_extension": ".py",
   "mimetype": "text/x-python",
   "name": "python",
   "nbconvert_exporter": "python",
   "pygments_lexer": "ipython3",
   "version": "3.7.3"
  }
 },
 "nbformat": 4,
 "nbformat_minor": 2
}
