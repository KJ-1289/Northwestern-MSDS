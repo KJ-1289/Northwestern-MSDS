{
 "cells": [
  {
   "cell_type": "markdown",
   "metadata": {},
   "source": [
    "**4.2** As part of a weight reduction program, a man designs a monthly exercise program consisting of bicycling, jogging, and\n",
    "swimming. He would like to exercise at most 38 hours, devote at most 8 hours to swimming, and jog for no more than the\n",
    "total number of hours bicycling and swimming. The calories burned by this person per hour by bicycling, jogging, and\n",
    "swimming are 200, 679, and 251, respectively. How many hours should be allotted to each activity to maximize the number\n",
    "of calories burned? What is the maximum number of calories he will burn? (Hint: Write the constraint involving jogging in the\n",
    "form <= 0.)"
   ]
  },
  {
   "cell_type": "markdown",
   "metadata": {},
   "source": [
    "**Solution:**\n",
    "Let x1 be the number of hours spent bicycling, let x2 be the number of hours spent jogging, and let x3 be the number of\n",
    "hours spent swimming. What is the objective function?\n",
    "Objective function = 200 x1 + 679 x2 + 251 x3 <br>\n",
    "Subject to:\n",
    "* x1 + x2 + x3 <= 38  \n",
    "* x3 <= 8\n",
    "* x2 <= x1 + x3\n",
    "* x ≥ 0, y ≥ 0 <br>\n"
   ]
  },
  {
   "cell_type": "code",
   "execution_count": 2,
   "metadata": {},
   "outputs": [
    {
     "name": "stdout",
     "output_type": "stream",
     "text": [
      "To maximize the number of calories burned, the man should spend 11.0 hours bicycling, 19.0 hours jogging, and 8.0 hours swimming.\n",
      "He will burn a maximum of 17109.0 calories.\n"
     ]
    }
   ],
   "source": [
    "from pulp import LpVariable, LpProblem, LpMaximize, GLPK, LpStatus, value, LpMinimize\n",
    "\n",
    "model = LpProblem(\"problem\", LpMaximize)\n",
    "x1 = LpVariable(\"x1\", 0, None) # x1 >= 0\n",
    "x2 = LpVariable(\"x2\", 0, None) # x2 >= 0\n",
    "x3 = LpVariable(\"x3\", 0, None) # x3 >= 0\n",
    "\n",
    "model += x1 + x2 + x3 <= 38\n",
    "model += x3 <= 8\n",
    "model += x2 <= x1 + x3\n",
    "\n",
    "model += 200*x1 + 679*x2 + 251*x3\n",
    "\n",
    "# solve the problem\n",
    "status = model.solve()\n",
    "LpStatus[status]\n",
    "\n",
    "print(\"To maximize the number of calories burned, the man should spend {} hours bicycling, {} hours jogging, and {} hours swimming.\".format(value(x1),value(x2),value(x3)))\n",
    "\n",
    "maximum_calories = 200 * value(x1) + 679 * value(x2) + 251 * value(x3) \n",
    "\n",
    "print('He will burn a maximum of {} calories.'.format(maximum_calories))"
   ]
  },
  {
   "cell_type": "code",
   "execution_count": null,
   "metadata": {},
   "outputs": [],
   "source": []
  }
 ],
 "metadata": {
  "kernelspec": {
   "display_name": "Python 3",
   "language": "python",
   "name": "python3"
  },
  "language_info": {
   "codemirror_mode": {
    "name": "ipython",
    "version": 3
   },
   "file_extension": ".py",
   "mimetype": "text/x-python",
   "name": "python",
   "nbconvert_exporter": "python",
   "pygments_lexer": "ipython3",
   "version": "3.7.3"
  }
 },
 "nbformat": 4,
 "nbformat_minor": 2
}
