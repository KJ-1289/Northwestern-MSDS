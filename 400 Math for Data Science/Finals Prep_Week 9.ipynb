{
 "cells": [
  {
   "cell_type": "markdown",
   "metadata": {},
   "source": [
    "20. Suppose a parking lot has 37 visitor spaces, numbered from 0 to 36. Visitors are assigned parking spaces using the\n",
    "hashing function h(k) = k(mod 37), where k is the number formed from the first three digits on a visitor’s license plate.\n",
    "Which spaces are assigned by the hashing function to cars that have these first three digits on their license plates: 463,\n",
    "817, 133, 715?"
   ]
  },
  {
   "cell_type": "code",
   "execution_count": 1,
   "metadata": {},
   "outputs": [
    {
     "name": "stdout",
     "output_type": "stream",
     "text": [
      "First three digits of license plate = 463: Parking space number =  16\n",
      "First three digits of license plate = 817: Parking space number =  1\n",
      "First three digits of license plate = 133: Parking space number =  25\n",
      "First three digits of license plate = 715: Parking space number =  9\n"
     ]
    }
   ],
   "source": [
    "def hash_f(k):\n",
    "    return k%29\n",
    "\n",
    "print(\"First three digits of license plate = 463: Parking space number = \",hash_f(277))\n",
    "print(\"First three digits of license plate = 817: Parking space number = \",hash_f(726))\n",
    "print(\"First three digits of license plate = 133: Parking space number = \",hash_f(54))\n",
    "print(\"First three digits of license plate = 715: Parking space number = \",hash_f(473))"
   ]
  },
  {
   "cell_type": "code",
   "execution_count": null,
   "metadata": {},
   "outputs": [],
   "source": []
  }
 ],
 "metadata": {
  "kernelspec": {
   "display_name": "Python 3",
   "language": "python",
   "name": "python3"
  },
  "language_info": {
   "codemirror_mode": {
    "name": "ipython",
    "version": 3
   },
   "file_extension": ".py",
   "mimetype": "text/x-python",
   "name": "python",
   "nbconvert_exporter": "python",
   "pygments_lexer": "ipython3",
   "version": "3.7.3"
  }
 },
 "nbformat": 4,
 "nbformat_minor": 2
}
