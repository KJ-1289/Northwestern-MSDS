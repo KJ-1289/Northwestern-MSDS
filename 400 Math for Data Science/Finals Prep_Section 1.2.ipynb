{
 "cells": [
  {
   "cell_type": "markdown",
   "metadata": {},
   "source": [
    "**Question 1.2** Northwest Molded molds plastic handles which cost \\\\$1.00 per handle to mold. The fixed cost to run the molding machine is $6,864 per week.  If the company sells the handles for \\\\$4.00 each, how many handles must be molded weekly to break even?"
   ]
  },
  {
   "cell_type": "code",
   "execution_count": 2,
   "metadata": {},
   "outputs": [
    {
     "name": "stdout",
     "output_type": "stream",
     "text": [
      "Number of handles to be molded weekly to break-even (or cover the fixed costs) = 80\n"
     ]
    }
   ],
   "source": [
    "# Individual unit costs\n",
    "handle_moulding_cost = 5.50\n",
    "handle_sales_price = 9.00\n",
    "\n",
    "# Fixed weekly costs\n",
    "weekly_fixed_costs = 280.00\n",
    "\n",
    "# Number of handles needed to break-even or cover fixed costs\n",
    "break_even_total = round(weekly_fixed_costs/(handle_sales_price-handle_moulding_cost))\n",
    "\n",
    "print(\"Number of handles to be molded weekly to break-even (or cover the fixed costs) = {}\".format(break_even_total,\"{:d}\"))"
   ]
  },
  {
   "cell_type": "code",
   "execution_count": null,
   "metadata": {},
   "outputs": [],
   "source": []
  }
 ],
 "metadata": {
  "kernelspec": {
   "display_name": "Python 3",
   "language": "python",
   "name": "python3"
  },
  "language_info": {
   "codemirror_mode": {
    "name": "ipython",
    "version": 3
   },
   "file_extension": ".py",
   "mimetype": "text/x-python",
   "name": "python",
   "nbconvert_exporter": "python",
   "pygments_lexer": "ipython3",
   "version": "3.7.3"
  }
 },
 "nbformat": 4,
 "nbformat_minor": 2
}
