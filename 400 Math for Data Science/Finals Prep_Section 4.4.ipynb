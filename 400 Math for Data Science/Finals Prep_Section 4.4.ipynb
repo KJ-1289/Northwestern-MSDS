{
 "cells": [
  {
   "cell_type": "markdown",
   "metadata": {},
   "source": [
    "**4.4** A company's lawn seed mixtures contain three types of seeds: bluegrass, rye, and Bermuda. The costs per pound of the\n",
    "three types are 11 cents, 14 cents, and 6 cents, respectively. In each batch there must be at least 20% bluegrass seed and\n",
    "the amount of must be two-thirds the amount of Bermuda. To fill current orders the company must make atleast 8000 pounds of the mixture. How much of each kind of seed should be used to minimize cost?"
   ]
  },
  {
   "cell_type": "markdown",
   "metadata": {},
   "source": [
    "**Solution:**Let x be the pounds of bluegrass seed <br>\n",
    "Let y be the pounds of rye seed <br>\n",
    "Let z be the pounds of Bermuda seed <br>\n",
    "\n",
    "Cost to be minimized = 0.11 x + 0.14 y + 0.06 z <br>\n",
    "Subject to:\n",
    "* x ≥ 0.20(x + y + z) \n",
    "* y ≥ 2/3z\n",
    "* x + y + z ≥ 8000\n",
    "* x ≥ 0 y ≥ 0 z ≥ 0 "
   ]
  },
  {
   "cell_type": "code",
   "execution_count": 1,
   "metadata": {},
   "outputs": [
    {
     "name": "stdout",
     "output_type": "stream",
     "text": [
      "The minimum cost of $382.40000000000003 occurs with a mixture of 800.0 pounds of bluegrass seed, 1280.0 pounds of rye seed, and 1920.0 pounds of Bermuda seed.\n"
     ]
    }
   ],
   "source": [
    "from pulp import LpVariable, LpProblem, LpMaximize, GLPK, LpStatus, value, LpMinimize\n",
    "\n",
    "model = LpProblem(\"problem\", LpMinimize)\n",
    "x = LpVariable(\"x\", 0, None) # x >= 0\n",
    "y = LpVariable(\"y\", 0, None) # y >= 0\n",
    "z = LpVariable(\"z\", 0, None) # z >= 0\n",
    "\n",
    "model += 0.80*x - 0.20*y - 0.20*z >= 0\n",
    "model += y - 2/3*z >= 0\n",
    "\n",
    "model += x + y + z >= 4000\n",
    "\n",
    "model += 0.11*x + 0.14*y + 0.06*z\n",
    "\n",
    "# solve the problem\n",
    "status = model.solve()\n",
    "LpStatus[status]\n",
    "\n",
    "minimum_cost = 0.11 * value(x) + 0.14 * value(y) + 0.06 * value(z) \n",
    "\n",
    "print(\"The minimum cost of ${} occurs with a mixture of {} pounds of bluegrass seed, {} pounds of rye seed, and {} pounds of Bermuda seed.\".format(minimum_cost,value(x),value(y),value(z)))\n"
   ]
  },
  {
   "cell_type": "code",
   "execution_count": null,
   "metadata": {},
   "outputs": [],
   "source": []
  }
 ],
 "metadata": {
  "kernelspec": {
   "display_name": "Python 3",
   "language": "python",
   "name": "python3"
  },
  "language_info": {
   "codemirror_mode": {
    "name": "ipython",
    "version": 3
   },
   "file_extension": ".py",
   "mimetype": "text/x-python",
   "name": "python",
   "nbconvert_exporter": "python",
   "pygments_lexer": "ipython3",
   "version": "3.7.3"
  }
 },
 "nbformat": 4,
 "nbformat_minor": 2
}
