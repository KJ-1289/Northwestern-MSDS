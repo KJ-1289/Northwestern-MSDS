{
 "cells": [
  {
   "cell_type": "markdown",
   "metadata": {},
   "source": [
    "https://github.com/KJ-1289/432-Foundations-of-Data-Engineering"
   ]
  },
  {
   "cell_type": "code",
   "execution_count": 298,
   "metadata": {},
   "outputs": [],
   "source": [
    "import numpy as np\n",
    "import pandas as pd\n",
    "import matplotlib.pyplot as plt\n",
    "import seaborn as sns\n",
    "import random\n",
    "import string\n",
    "import time\n",
    "import warnings\n",
    "warnings.filterwarnings(\"ignore\")"
   ]
  },
  {
   "cell_type": "markdown",
   "metadata": {},
   "source": [
    "**1. Set up five lists of randomly generated strings of length 50 characters, each with a length of 200, 400, 600, 800, 1000. You may use the code we used in previous homework assignments. Make sure the list is unsorted and does not contain any duplicates.**"
   ]
  },
  {
   "cell_type": "code",
   "execution_count": 299,
   "metadata": {},
   "outputs": [],
   "source": [
    "np.random.seed(123)\n",
    "\n",
    "def create_stringarrays(array_length):\n",
    "    string_arrays = [''.join(random.choices(string.ascii_letters, k=50)) for j in range(array_length)]\n",
    "    if len(set(string_arrays)) < array_length:\n",
    "        string_arrays = [''.join(random.choices(string.ascii_letters, k=50)) for j in range(array_length)]\n",
    "        create_stringarrays(array_length)\n",
    "    else:\n",
    "        return string_arrays"
   ]
  },
  {
   "cell_type": "code",
   "execution_count": 300,
   "metadata": {},
   "outputs": [],
   "source": [
    "array_1 = create_stringarrays(array_length=200)\n",
    "array_2 = create_stringarrays(array_length=400)\n",
    "array_3 = create_stringarrays(array_length=600)\n",
    "array_4 = create_stringarrays(array_length=800)\n",
    "array_5 = create_stringarrays(array_length=1000)\n",
    "array_6 = create_stringarrays(array_length=2000)"
   ]
  },
  {
   "cell_type": "markdown",
   "metadata": {},
   "source": [
    "**2. Use the textbook implementation of quicksort to sort the data, being sure to capture the amount of time it takes for each list.**"
   ]
  },
  {
   "cell_type": "code",
   "execution_count": 301,
   "metadata": {},
   "outputs": [],
   "source": [
    "def quicksort(array):\n",
    "    if len(array) < 2:\n",
    "        return array\n",
    "    else:\n",
    "        pivot = array[0]\n",
    "        less = [i for i in array [1:] if i <= pivot]\n",
    "        greater = [i for i in array[1:] if i > pivot]\n",
    "        return quicksort(less) + [pivot] + quicksort(greater)"
   ]
  },
  {
   "cell_type": "code",
   "execution_count": 302,
   "metadata": {},
   "outputs": [],
   "source": [
    "start_time = time.clock()\n",
    "quicksort(array_1)\n",
    "end_time = time.clock()\n",
    "run_time = (end_time - start_time) * 1000\n",
    "qs_time1 = run_time\n",
    "\n",
    "start_time = time.clock()\n",
    "quicksort(array_2)\n",
    "end_time = time.clock()\n",
    "run_time = (end_time - start_time) * 1000\n",
    "qs_time2 = run_time\n",
    "\n",
    "start_time = time.clock()\n",
    "quicksort(array_3)\n",
    "end_time = time.clock()\n",
    "run_time = (end_time - start_time) * 1000\n",
    "qs_time3 = run_time\n",
    "\n",
    "start_time = time.clock()\n",
    "quicksort(array_4)\n",
    "end_time = time.clock()\n",
    "run_time = (end_time - start_time) * 1000\n",
    "qs_time4 = run_time\n",
    "\n",
    "start_time = time.clock()\n",
    "quicksort(array_5)\n",
    "end_time = time.clock()\n",
    "run_time = (end_time - start_time) * 1000\n",
    "qs_time5 = run_time\n",
    "\n",
    "start_time = time.clock()\n",
    "quicksort(array_6)\n",
    "end_time = time.clock()\n",
    "run_time = (end_time - start_time) * 1000\n",
    "qs_time6 = run_time"
   ]
  },
  {
   "cell_type": "markdown",
   "metadata": {},
   "source": [
    "**3. Now use at least two other sorting algorithms on the same data set (e.g. merge sort, bubble sort, insertion sort, etc). Make sure that you code the sorting algorithm and you do not use a builtin function. By this I mean you may not use np.sort() or sorted(), etc. You must code the algorithm in order to compare the complexity of each. Here is a good resource https://www.geeksforgeeks.org/sorting-algorithms/ (Links to an external site.)). Capture the computation time for each list using each sorting algorithm that you have used.**"
   ]
  },
  {
   "cell_type": "code",
   "execution_count": 303,
   "metadata": {},
   "outputs": [],
   "source": [
    "def mergeSort(array): \n",
    "    if len(array) >1: \n",
    "        mid = len(array)//2 #Finding the mid of the array \n",
    "        L = array[:mid] # Dividing the array elements  \n",
    "        R = array[mid:] # into 2 halves \n",
    "  \n",
    "        mergeSort(L) # Sorting the first half \n",
    "        mergeSort(R) # Sorting the second half \n",
    "  \n",
    "        i = j = k = 0\n",
    "          \n",
    "        # Copy data to temp arrays L[] and R[] \n",
    "        while i < len(L) and j < len(R): \n",
    "            if L[i] < R[j]: \n",
    "                array[k] = L[i] \n",
    "                i+=1\n",
    "            else: \n",
    "                array[k] = R[j] \n",
    "                j+=1\n",
    "            k+=1\n",
    "          \n",
    "        # Checking if any element was left \n",
    "        while i < len(L): \n",
    "            array[k] = L[i] \n",
    "            i+=1\n",
    "            k+=1\n",
    "          \n",
    "        while j < len(R): \n",
    "            array[k] = R[j] \n",
    "            j+=1\n",
    "            k+=1\n",
    "    \n",
    "def printList(array): \n",
    "    for i in range(len(array)):         \n",
    "        print(array[i],end=\" \") \n",
    "    print() "
   ]
  },
  {
   "cell_type": "code",
   "execution_count": 304,
   "metadata": {},
   "outputs": [],
   "source": [
    "start_time = time.clock()\n",
    "mergeSort(array_1)\n",
    "end_time = time.clock()\n",
    "run_time = (end_time - start_time) * 1000\n",
    "ms_time1 = run_time\n",
    "\n",
    "start_time = time.clock()\n",
    "mergeSort(array_2)\n",
    "end_time = time.clock()\n",
    "run_time = (end_time - start_time) * 1000\n",
    "ms_time2 = run_time\n",
    "\n",
    "start_time = time.clock()\n",
    "mergeSort(array_3)\n",
    "end_time = time.clock()\n",
    "run_time = (end_time - start_time) * 1000\n",
    "ms_time3 = run_time\n",
    "\n",
    "start_time = time.clock()\n",
    "mergeSort(array_4)\n",
    "end_time = time.clock()\n",
    "run_time = (end_time - start_time) * 1000\n",
    "ms_time4 = run_time\n",
    "\n",
    "start_time = time.clock()\n",
    "mergeSort(array_5)\n",
    "end_time = time.clock()\n",
    "run_time = (end_time - start_time) * 1000\n",
    "ms_time5 = run_time\n",
    "\n",
    "start_time = time.clock()\n",
    "mergeSort(array_6)\n",
    "end_time = time.clock()\n",
    "run_time = (end_time - start_time) * 1000\n",
    "ms_time6 = run_time"
   ]
  },
  {
   "cell_type": "code",
   "execution_count": 305,
   "metadata": {},
   "outputs": [],
   "source": [
    "# n is size of heap \n",
    "def heapify(array, n, i): \n",
    "    largest = i # Initialize largest as root \n",
    "    l = 2 * i + 1     # left = 2*i + 1 \n",
    "    r = 2 * i + 2     # right = 2*i + 2 \n",
    "  \n",
    "    # See if left child of root exists and is \n",
    "    # greater than root \n",
    "    if l < n and array[i] < array[l]: \n",
    "        largest = l \n",
    "  \n",
    "    # See if right child of root exists and is \n",
    "    # greater than root \n",
    "    if r < n and array[largest] < array[r]: \n",
    "        largest = r \n",
    "  \n",
    "    # Change root, if needed \n",
    "    if largest != i: \n",
    "        array[i],array[largest] = array[largest],array[i] # swap \n",
    "  \n",
    "        # Heapify the root. \n",
    "        heapify(array, n, largest)\n",
    "\n",
    "# The main function to sort an array of given size \n",
    "def heapSort(array): \n",
    "    n = len(array) \n",
    "  \n",
    "    # Build a maxheap. \n",
    "    for i in range(n, -1, -1): \n",
    "        heapify(array, n, i) \n",
    "  \n",
    "    # One by one extract elements \n",
    "    for i in range(n-1, 0, -1): \n",
    "        array[i], array[0] = array[0], array[i] # swap \n",
    "        heapify(array, i, 0) "
   ]
  },
  {
   "cell_type": "code",
   "execution_count": 306,
   "metadata": {},
   "outputs": [],
   "source": [
    "start_time = time.clock()\n",
    "heapSort(array_1)\n",
    "end_time = time.clock()\n",
    "run_time = (end_time - start_time) * 1000\n",
    "hs_time1 = run_time\n",
    "\n",
    "start_time = time.clock()\n",
    "heapSort(array_2)\n",
    "end_time = time.clock()\n",
    "run_time = (end_time - start_time) * 1000\n",
    "hs_time2 = run_time\n",
    "\n",
    "start_time = time.clock()\n",
    "heapSort(array_3)\n",
    "end_time = time.clock()\n",
    "run_time = (end_time - start_time) * 1000\n",
    "hs_time3 = run_time\n",
    "\n",
    "start_time = time.clock()\n",
    "heapSort(array_4)\n",
    "end_time = time.clock()\n",
    "run_time = (end_time - start_time) * 1000\n",
    "hs_time4 = run_time\n",
    "\n",
    "start_time = time.clock()\n",
    "heapSort(array_5)\n",
    "end_time = time.clock()\n",
    "run_time = (end_time - start_time) * 1000\n",
    "hs_time5 = run_time\n",
    "\n",
    "start_time = time.clock()\n",
    "heapSort(array_6)\n",
    "end_time = time.clock()\n",
    "run_time = (end_time - start_time) * 1000\n",
    "hs_time6 = run_time"
   ]
  },
  {
   "cell_type": "markdown",
   "metadata": {},
   "source": [
    "**4. Create a table containing each algorithm and the timings for each list.  Provide a graph showing how each algorithm scales with size of list (also compare the algorithms themselves).  Discuss your findings with explanations for what you observe.**"
   ]
  },
  {
   "cell_type": "code",
   "execution_count": 307,
   "metadata": {},
   "outputs": [],
   "source": [
    "array_1_n = len(array_1)\n",
    "array_2_n = len(array_2)\n",
    "array_3_n = len(array_3)\n",
    "array_4_n = len(array_4)\n",
    "array_5_n = len(array_5)\n",
    "array_6_n = len(array_6)"
   ]
  },
  {
   "cell_type": "code",
   "execution_count": 308,
   "metadata": {},
   "outputs": [],
   "source": [
    "array_1_df = pd.DataFrame([[array_1_n, qs_time1, ms_time1, hs_time1]])\n",
    "array_2_df = pd.DataFrame([[array_2_n, qs_time2, ms_time2, hs_time2]])\n",
    "array_3_df = pd.DataFrame([[array_3_n, qs_time3, ms_time3, hs_time3]])\n",
    "array_4_df = pd.DataFrame([[array_4_n, qs_time4, ms_time4, hs_time4]])\n",
    "array_5_df = pd.DataFrame([[array_5_n, qs_time5, ms_time5, hs_time5]])\n",
    "array_6_df = pd.DataFrame([[array_6_n, qs_time6, ms_time6, hs_time6]])"
   ]
  },
  {
   "cell_type": "code",
   "execution_count": 309,
   "metadata": {},
   "outputs": [
    {
     "data": {
      "text/html": [
       "<div>\n",
       "<style scoped>\n",
       "    .dataframe tbody tr th:only-of-type {\n",
       "        vertical-align: middle;\n",
       "    }\n",
       "\n",
       "    .dataframe tbody tr th {\n",
       "        vertical-align: top;\n",
       "    }\n",
       "\n",
       "    .dataframe thead th {\n",
       "        text-align: right;\n",
       "    }\n",
       "</style>\n",
       "<table border=\"1\" class=\"dataframe\">\n",
       "  <thead>\n",
       "    <tr style=\"text-align: right;\">\n",
       "      <th></th>\n",
       "      <th>Length</th>\n",
       "      <th>QuickSort</th>\n",
       "      <th>MergeSort</th>\n",
       "      <th>HeapSort</th>\n",
       "    </tr>\n",
       "  </thead>\n",
       "  <tbody>\n",
       "    <tr>\n",
       "      <td>Array 1</td>\n",
       "      <td>200</td>\n",
       "      <td>0.5107</td>\n",
       "      <td>0.6113</td>\n",
       "      <td>0.7575</td>\n",
       "    </tr>\n",
       "    <tr>\n",
       "      <td>Array 2</td>\n",
       "      <td>400</td>\n",
       "      <td>0.6389</td>\n",
       "      <td>1.2553</td>\n",
       "      <td>1.3969</td>\n",
       "    </tr>\n",
       "    <tr>\n",
       "      <td>Array 3</td>\n",
       "      <td>600</td>\n",
       "      <td>1.1095</td>\n",
       "      <td>1.9548</td>\n",
       "      <td>2.2661</td>\n",
       "    </tr>\n",
       "    <tr>\n",
       "      <td>Array 4</td>\n",
       "      <td>800</td>\n",
       "      <td>1.3155</td>\n",
       "      <td>2.7129</td>\n",
       "      <td>3.7944</td>\n",
       "    </tr>\n",
       "    <tr>\n",
       "      <td>Array 5</td>\n",
       "      <td>1000</td>\n",
       "      <td>1.7347</td>\n",
       "      <td>3.2973</td>\n",
       "      <td>4.2426</td>\n",
       "    </tr>\n",
       "  </tbody>\n",
       "</table>\n",
       "</div>"
      ],
      "text/plain": [
       "         Length  QuickSort  MergeSort  HeapSort\n",
       "Array 1     200     0.5107     0.6113    0.7575\n",
       "Array 2     400     0.6389     1.2553    1.3969\n",
       "Array 3     600     1.1095     1.9548    2.2661\n",
       "Array 4     800     1.3155     2.7129    3.7944\n",
       "Array 5    1000     1.7347     3.2973    4.2426"
      ]
     },
     "execution_count": 309,
     "metadata": {},
     "output_type": "execute_result"
    }
   ],
   "source": [
    "time_df = pd.concat([array_1_df, array_2_df, array_3_df, array_4_df, array_5_df])\n",
    "time_df.columns = ['Length', 'QuickSort', 'MergeSort', 'HeapSort']\n",
    "time_df.index = ['Array 1', 'Array 2', 'Array 3', 'Array 4', 'Array 5']\n",
    "time_df"
   ]
  },
  {
   "cell_type": "code",
   "execution_count": 310,
   "metadata": {},
   "outputs": [
    {
     "data": {
      "text/plain": [
       "<matplotlib.legend.Legend at 0x203628b1dc8>"
      ]
     },
     "execution_count": 310,
     "metadata": {},
     "output_type": "execute_result"
    },
    {
     "data": {
      "image/png": "[encoded data removed]",
      "text/plain": [
       "<Figure size 432x288 with 1 Axes>"
      ]
     },
     "metadata": {
      "needs_background": "light"
     },
     "output_type": "display_data"
    }
   ],
   "source": [
    "plt.plot('Length', 'QuickSort', data = time_df, color = 'k', label = \"QuickSort\")\n",
    "plt.plot('Length', 'MergeSort', data = time_df, color = 'm', label = \"MergeSort\")\n",
    "plt.plot('Length', 'HeapSort', data = time_df, color = 'b', label = \"HeapSort\")\n",
    "plt.xlabel(\"Array Length\")\n",
    "plt.ylabel(\"Time (ms)\")\n",
    "plt.suptitle(\"Array Length vs. Sort Times\")\n",
    "plt.legend()"
   ]
  },
  {
   "cell_type": "markdown",
   "metadata": {},
   "source": [
    "### Executive Summary:"
   ]
  },
  {
   "cell_type": "markdown",
   "metadata": {},
   "source": [
    "In this lab, we created a QuickSort algorithm and then compared the run times to other sorting algorithms.  QuickSort is a divide and conquer algorithm.  It works by picking an element as the pivot and then partitions the given array around the picked pivot.  For comparison, I elected to use MergeSort and HeapSort.  MergeSort, like QuickSort is also a divide and conquer algorithm.  It divides the input array into two halves, calls itself for the two halves, and then merges the two sorted halves.  Heapsort, meanwhile, behaves similarly to Selection Sort.\n",
    "\n",
    "Looking at the run times for each algorithm, MergeSort and HeapSort are nearly identical for the shorter arrays before diverging significantly.  However, QuickSort runs faster by both by a wide margin.  Between these sorting algorithms, my recommendation would be to use QuickSort."
   ]
  }
 ],
 "metadata": {
  "kernelspec": {
   "display_name": "Python 3",
   "language": "python",
   "name": "python3"
  },
  "language_info": {
   "codemirror_mode": {
    "name": "ipython",
    "version": 3
   },
   "file_extension": ".py",
   "mimetype": "text/x-python",
   "name": "python",
   "nbconvert_exporter": "python",
   "pygments_lexer": "ipython3",
   "version": "3.7.4"
  }
 },
 "nbformat": 4,
 "nbformat_minor": 2
}
