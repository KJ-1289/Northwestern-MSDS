{
 "cells": [
  {
   "cell_type": "markdown",
   "metadata": {},
   "source": [
    "https://github.com/KJ-1289/432-Foundations-of-Data-Engineering"
   ]
  },
  {
   "cell_type": "code",
   "execution_count": 1,
   "metadata": {},
   "outputs": [],
   "source": [
    "import numpy as np\n",
    "import pandas as pd\n",
    "import matplotlib.pyplot as plt\n",
    "import seaborn as sns\n",
    "from numpy.random import uniform\n",
    "from timeit import default_timer as timer\n",
    "import warnings\n",
    "warnings.filterwarnings(\"ignore\")\n",
    "import os"
   ]
  },
  {
   "cell_type": "markdown",
   "metadata": {},
   "source": [
    "**1. Set up an array of ten random numbers between 100 and 500 (just one array with 10 numbers).**"
   ]
  },
  {
   "cell_type": "code",
   "execution_count": 2,
   "metadata": {},
   "outputs": [
    {
     "data": {
      "text/plain": [
       "array([283, 307, 309, 310, 326, 381, 407, 411, 454, 462])"
      ]
     },
     "execution_count": 2,
     "metadata": {},
     "output_type": "execute_result"
    }
   ],
   "source": [
    "array = np.round(uniform(100, 500, 10)).astype(int)\n",
    "array_sorted = np.sort(array)\n",
    "array_sorted"
   ]
  },
  {
   "cell_type": "markdown",
   "metadata": {},
   "source": [
    "**2. Calculate the factorial of each of the numbers using a simple FOR loop.  Please capture the start/end times and store the results in an array, or linked list, or dictionary.**"
   ]
  },
  {
   "cell_type": "code",
   "execution_count": 3,
   "metadata": {},
   "outputs": [],
   "source": [
    "def fact_loop(x):\n",
    "    fact = 1\n",
    "    if x < 0:\n",
    "        return print(\"Factorial does not exist!\")\n",
    "    elif x == 0:\n",
    "        return 1\n",
    "    else: \n",
    "        for i in range(1, x + 1):\n",
    "            fact = fact * i\n",
    "    return fact\n",
    "\n",
    "def array_for_loop(x):\n",
    "    fill = np.array([], dtype = 'int')\n",
    "    time = np.array([], dtype = 'float64')\n",
    "    for i in range(len(x)):\n",
    "        start_time = timer()\n",
    "        fact = fact_loop(x[i])\n",
    "        end_time = timer()\n",
    "        run_time = (end_time - start_time) * 1000\n",
    "        fill = np.append(fill, fact)\n",
    "        time = np.append(time, run_time)\n",
    "    return fill, time"
   ]
  },
  {
   "cell_type": "code",
   "execution_count": 4,
   "metadata": {},
   "outputs": [
    {
     "data": {
      "text/plain": [
       "array([0.0605, 0.0448, 0.0573, 0.0423, 0.0295, 0.0377, 0.0411, 0.0654,\n",
       "       0.0622, 0.0495])"
      ]
     },
     "execution_count": 4,
     "metadata": {},
     "output_type": "execute_result"
    }
   ],
   "source": [
    "array_for_loop = array_for_loop(array_sorted)\n",
    "loop_run_times = array_for_loop[1]\n",
    "loop_run_times"
   ]
  },
  {
   "cell_type": "markdown",
   "metadata": {},
   "source": [
    "**3. Calculate the factorial of each of the numbers using recursion.  Please capture the start/end times and store the results in an array, or linked list, or dictionary.**"
   ]
  },
  {
   "cell_type": "code",
   "execution_count": 5,
   "metadata": {},
   "outputs": [],
   "source": [
    "def fact_rec(x):\n",
    "    if x < 0:\n",
    "        return print(\"Factorial does not exist!\")\n",
    "    elif x == 0:\n",
    "        return 1\n",
    "    elif x == 1:\n",
    "        return 1\n",
    "    else:\n",
    "        return x * fact_rec(x-1)\n",
    "\n",
    "def array_rec_func(x):\n",
    "    fill = np.array([], dtype = 'int')\n",
    "    time = np.array([], dtype = 'float64')\n",
    "    for i in range(len(x)):\n",
    "        start_time = timer()\n",
    "        fact = fact_rec(x[i])\n",
    "        end_time = timer()\n",
    "        run_time = (end_time - start_time) * 1000\n",
    "        fill = np.append(fill, fact)\n",
    "        time = np.append(time, run_time)\n",
    "    return fill, time"
   ]
  },
  {
   "cell_type": "code",
   "execution_count": 6,
   "metadata": {},
   "outputs": [
    {
     "data": {
      "text/plain": [
       "array([0.2844, 0.2067, 0.1891, 0.1911, 0.2641, 0.3021, 0.323 , 0.2631,\n",
       "       0.2891, 0.2762])"
      ]
     },
     "execution_count": 6,
     "metadata": {},
     "output_type": "execute_result"
    }
   ],
   "source": [
    "array_rec_func = array_rec_func(array_sorted)\n",
    "rec_run_times = array_rec_func[1]\n",
    "rec_run_times"
   ]
  },
  {
   "cell_type": "markdown",
   "metadata": {},
   "source": [
    "**4. Organize the results of the study into a table showing the number, its factorial, the time to calculate the factorial using recursion, the time to calculate factorial using FOR loop, and the difference between times.**"
   ]
  },
  {
   "cell_type": "code",
   "execution_count": 7,
   "metadata": {},
   "outputs": [
    {
     "data": {
      "text/html": [
       "<div>\n",
       "<style scoped>\n",
       "    .dataframe tbody tr th:only-of-type {\n",
       "        vertical-align: middle;\n",
       "    }\n",
       "\n",
       "    .dataframe tbody tr th {\n",
       "        vertical-align: top;\n",
       "    }\n",
       "\n",
       "    .dataframe thead th {\n",
       "        text-align: right;\n",
       "    }\n",
       "</style>\n",
       "<table border=\"1\" class=\"dataframe\">\n",
       "  <thead>\n",
       "    <tr style=\"text-align: right;\">\n",
       "      <th></th>\n",
       "      <th>Array Number</th>\n",
       "      <th>Factorial</th>\n",
       "      <th>Recursive Run Time</th>\n",
       "      <th>For Loop Run Time</th>\n",
       "      <th>Difference</th>\n",
       "    </tr>\n",
       "  </thead>\n",
       "  <tbody>\n",
       "    <tr>\n",
       "      <td>0</td>\n",
       "      <td>283</td>\n",
       "      <td>3761264809797257894735555301426381666905812284...</td>\n",
       "      <td>0.2844</td>\n",
       "      <td>0.0605</td>\n",
       "      <td>0.2239</td>\n",
       "    </tr>\n",
       "    <tr>\n",
       "      <td>1</td>\n",
       "      <td>307</td>\n",
       "      <td>7342641689008414586776116263451665625319292539...</td>\n",
       "      <td>0.2067</td>\n",
       "      <td>0.0448</td>\n",
       "      <td>0.1619</td>\n",
       "    </tr>\n",
       "    <tr>\n",
       "      <td>2</td>\n",
       "      <td>309</td>\n",
       "      <td>6988138948263088330526565370252219208928877095...</td>\n",
       "      <td>0.1891</td>\n",
       "      <td>0.0573</td>\n",
       "      <td>0.1318</td>\n",
       "    </tr>\n",
       "    <tr>\n",
       "      <td>3</td>\n",
       "      <td>310</td>\n",
       "      <td>2166323073961557382463235264778187954767951899...</td>\n",
       "      <td>0.1911</td>\n",
       "      <td>0.0423</td>\n",
       "      <td>0.1488</td>\n",
       "    </tr>\n",
       "    <tr>\n",
       "      <td>4</td>\n",
       "      <td>326</td>\n",
       "      <td>2425192809059758909257722451160643102411732991...</td>\n",
       "      <td>0.2641</td>\n",
       "      <td>0.0295</td>\n",
       "      <td>0.2346</td>\n",
       "    </tr>\n",
       "    <tr>\n",
       "      <td>5</td>\n",
       "      <td>381</td>\n",
       "      <td>3596379714198470286834416093499120610424229900...</td>\n",
       "      <td>0.3021</td>\n",
       "      <td>0.0377</td>\n",
       "      <td>0.2644</td>\n",
       "    </tr>\n",
       "    <tr>\n",
       "      <td>6</td>\n",
       "      <td>407</td>\n",
       "      <td>1124725342115113696939532250755210726505023140...</td>\n",
       "      <td>0.323</td>\n",
       "      <td>0.0411</td>\n",
       "      <td>0.2819</td>\n",
       "    </tr>\n",
       "    <tr>\n",
       "      <td>7</td>\n",
       "      <td>411</td>\n",
       "      <td>3162682753994239743534273287479944408878237177...</td>\n",
       "      <td>0.2631</td>\n",
       "      <td>0.0654</td>\n",
       "      <td>0.1977</td>\n",
       "    </tr>\n",
       "    <tr>\n",
       "      <td>8</td>\n",
       "      <td>454</td>\n",
       "      <td>7267080816354205991099313803658062605203626853...</td>\n",
       "      <td>0.2891</td>\n",
       "      <td>0.0622</td>\n",
       "      <td>0.2269</td>\n",
       "    </tr>\n",
       "    <tr>\n",
       "      <td>9</td>\n",
       "      <td>462</td>\n",
       "      <td>1419159881532604159360102000036080964658416816...</td>\n",
       "      <td>0.2762</td>\n",
       "      <td>0.0495</td>\n",
       "      <td>0.2267</td>\n",
       "    </tr>\n",
       "  </tbody>\n",
       "</table>\n",
       "</div>"
      ],
      "text/plain": [
       "  Array Number                                          Factorial  \\\n",
       "0          283  3761264809797257894735555301426381666905812284...   \n",
       "1          307  7342641689008414586776116263451665625319292539...   \n",
       "2          309  6988138948263088330526565370252219208928877095...   \n",
       "3          310  2166323073961557382463235264778187954767951899...   \n",
       "4          326  2425192809059758909257722451160643102411732991...   \n",
       "5          381  3596379714198470286834416093499120610424229900...   \n",
       "6          407  1124725342115113696939532250755210726505023140...   \n",
       "7          411  3162682753994239743534273287479944408878237177...   \n",
       "8          454  7267080816354205991099313803658062605203626853...   \n",
       "9          462  1419159881532604159360102000036080964658416816...   \n",
       "\n",
       "  Recursive Run Time For Loop Run Time Difference  \n",
       "0             0.2844            0.0605     0.2239  \n",
       "1             0.2067            0.0448     0.1619  \n",
       "2             0.1891            0.0573     0.1318  \n",
       "3             0.1911            0.0423     0.1488  \n",
       "4             0.2641            0.0295     0.2346  \n",
       "5             0.3021            0.0377     0.2644  \n",
       "6              0.323            0.0411     0.2819  \n",
       "7             0.2631            0.0654     0.1977  \n",
       "8             0.2891            0.0622     0.2269  \n",
       "9             0.2762            0.0495     0.2267  "
      ]
     },
     "execution_count": 7,
     "metadata": {},
     "output_type": "execute_result"
    }
   ],
   "source": [
    "fact_df = pd.DataFrame(np.array([array_sorted, array_for_loop[0], rec_run_times, loop_run_times, \n",
    "                                 rec_run_times - loop_run_times])).transpose()\n",
    "fact_df = fact_df.rename(columns = {0: \"Array Number\", 1: \"Factorial\", 2: \"Recursive Run Time\", 3: \"For Loop Run Time\",\n",
    "                                   4: \"Difference\"})\n",
    "fact_df"
   ]
  },
  {
   "cell_type": "markdown",
   "metadata": {},
   "source": [
    "**5. Use Python Matplotlib or Seaborn to generate a graph that has a number on the horizontal axis and with execution time in milliseconds on the vertical axis.  The plot should show execution times of recursion and the loop.**"
   ]
  },
  {
   "cell_type": "code",
   "execution_count": 8,
   "metadata": {},
   "outputs": [
    {
     "data": {
      "image/png": "[encoded data removed]",
      "text/plain": [
       "<Figure size 720x504 with 1 Axes>"
      ]
     },
     "metadata": {
      "needs_background": "light"
     },
     "output_type": "display_data"
    }
   ],
   "source": [
    "df_plot = fact_df[[\"Array Number\", \"Recursive Run Time\", \"For Loop Run Time\"]].astype(float)\n",
    "run_times_pivot = pd.pivot_table(df_plot, index = df_plot[\"Array Number\"])\n",
    "run_times_plot = run_times_pivot.loc[:,[\"For Loop Run Time\", \"Recursive Run Time\"]].plot.bar(stacked = False, figsize=(10,7))\n",
    "plt.ylabel(\"Run Time (ms)\")\n",
    "plt.xlabel(\"Array Number\")\n",
    "plt.title(\"Run Times for Factorials by Number\")\n",
    "plt.show()"
   ]
  },
  {
   "cell_type": "markdown",
   "metadata": {},
   "source": [
    "### Executive Summary:"
   ]
  },
  {
   "cell_type": "markdown",
   "metadata": {},
   "source": [
    "In this exercise we implemented both a For Loop and Recursive Function for calculating factorials.  A recursive function contains two parts: a base case and a recursive case.  In the recursive case, the function calls itself, while the base case is when the function knows not to call again so it does not go into an infinite loop.  While recursion can make the solution clearer, there is no performance benefit.  This is well illustrated in the above functions.  For each array, the recursive function ran roughly .20 ms longer than the for loop.  Recursive functions may come in handy for more complicated algorithms.  However, in this instance, the for loop is more useful.  "
   ]
  }
 ],
 "metadata": {
  "kernelspec": {
   "display_name": "Python 3",
   "language": "python",
   "name": "python3"
  },
  "language_info": {
   "codemirror_mode": {
    "name": "ipython",
    "version": 3
   },
   "file_extension": ".py",
   "mimetype": "text/x-python",
   "name": "python",
   "nbconvert_exporter": "python",
   "pygments_lexer": "ipython3",
   "version": "3.7.4"
  }
 },
 "nbformat": 4,
 "nbformat_minor": 2
}
