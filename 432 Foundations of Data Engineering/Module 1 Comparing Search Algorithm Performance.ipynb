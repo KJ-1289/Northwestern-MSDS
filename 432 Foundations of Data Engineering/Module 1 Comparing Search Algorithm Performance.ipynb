{
 "cells": [
  {
   "cell_type": "markdown",
   "metadata": {},
   "source": [
    "https://github.com/KJ-1289/432-Foundations-of-Data-Engineering"
   ]
  },
  {
   "cell_type": "code",
   "execution_count": 137,
   "metadata": {},
   "outputs": [],
   "source": [
    "import numpy as np\n",
    "import pandas as pd\n",
    "import matplotlib.pyplot as plt\n",
    "import seaborn as sns\n",
    "import time\n",
    "import warnings \n",
    "warnings.filterwarnings(\"ignore\")"
   ]
  },
  {
   "cell_type": "markdown",
   "metadata": {},
   "source": [
    "**1. To begin, let's generate some random data to work with. Ensure that a common random number seed is used to generate each of the arrays. We will make five arrays, each of length 512, 1024, 2048, 4096, and 8192 containing randomly generated uniformly distributed integers from 1 to 10000. You may use the numpy package for this.**"
   ]
  },
  {
   "cell_type": "code",
   "execution_count": 138,
   "metadata": {},
   "outputs": [],
   "source": [
    "np.random.seed(96)\n",
    "array_1 = np.random.randint(low = 1, high = 10000, size = 512)\n",
    "array_2 = np.random.randint(low = 1, high = 10000, size = 1024)\n",
    "array_3 = np.random.randint(low = 1, high = 10000, size = 2048)\n",
    "array_4 = np.random.randint(low = 1, high = 10000, size = 4096)\n",
    "array_5 = np.random.randint(low = 1, high = 10000, size = 8192)"
   ]
  },
  {
   "cell_type": "markdown",
   "metadata": {},
   "source": [
    "**2. Sort each of the random number arrays from smallest to largest. You may use any algorithm to sort the data.**"
   ]
  },
  {
   "cell_type": "code",
   "execution_count": 139,
   "metadata": {},
   "outputs": [
    {
     "data": {
      "text/plain": [
       "0.322"
      ]
     },
     "execution_count": 139,
     "metadata": {},
     "output_type": "execute_result"
    }
   ],
   "source": [
    "start_time = time.clock()\n",
    "array_1_sorted = np.sort(array_1)\n",
    "end_time = time.clock()\n",
    "run_time = (end_time - start_time) * 1000\n",
    "array_1_time_sort = round(run_time, 3)\n",
    "array_1_time_sort"
   ]
  },
  {
   "cell_type": "code",
   "execution_count": 140,
   "metadata": {},
   "outputs": [
    {
     "data": {
      "text/plain": [
       "0.19"
      ]
     },
     "execution_count": 140,
     "metadata": {},
     "output_type": "execute_result"
    }
   ],
   "source": [
    "start_time = time.clock()\n",
    "array_2_sorted = np.sort(array_2)\n",
    "end_time = time.clock()\n",
    "run_time = (end_time - start_time) * 1000\n",
    "array_2_time_sort = round(run_time, 3)\n",
    "array_2_time_sort"
   ]
  },
  {
   "cell_type": "code",
   "execution_count": 141,
   "metadata": {},
   "outputs": [
    {
     "data": {
      "text/plain": [
       "0.3"
      ]
     },
     "execution_count": 141,
     "metadata": {},
     "output_type": "execute_result"
    }
   ],
   "source": [
    "start_time = time.clock()\n",
    "array_3_sorted = np.sort(array_3)\n",
    "end_time = time.clock()\n",
    "run_time = (end_time - start_time) * 1000\n",
    "array_3_time_sort = round(run_time, 3)\n",
    "array_3_time_sort"
   ]
  },
  {
   "cell_type": "code",
   "execution_count": 142,
   "metadata": {},
   "outputs": [
    {
     "data": {
      "text/plain": [
       "0.388"
      ]
     },
     "execution_count": 142,
     "metadata": {},
     "output_type": "execute_result"
    }
   ],
   "source": [
    "start_time = time.clock()\n",
    "array_4_sorted = np.sort(array_4)\n",
    "end_time = time.clock()\n",
    "run_time = (end_time - start_time) * 1000\n",
    "array_4_time_sort = round(run_time, 3)\n",
    "array_4_time_sort"
   ]
  },
  {
   "cell_type": "code",
   "execution_count": 143,
   "metadata": {},
   "outputs": [
    {
     "data": {
      "text/plain": [
       "1.045"
      ]
     },
     "execution_count": 143,
     "metadata": {},
     "output_type": "execute_result"
    }
   ],
   "source": [
    "start_time = time.clock()\n",
    "array_5_sorted = np.sort(array_5)\n",
    "end_time = time.clock()\n",
    "run_time = (end_time - start_time) * 1000\n",
    "array_5_time_sort = round(run_time, 3)\n",
    "array_5_time_sort"
   ]
  },
  {
   "cell_type": "markdown",
   "metadata": {},
   "source": [
    "**3. Execute the base search algorithm (binary search) (from the text and github code) for each of array, noting the execution time for each array.  With each execution use the maximum value of the random number array as the number for which you are searching.**"
   ]
  },
  {
   "cell_type": "code",
   "execution_count": 144,
   "metadata": {},
   "outputs": [],
   "source": [
    "def binary_search(list, item):\n",
    "    low = 0\n",
    "    high = len(list) - 1\n",
    "    \n",
    "    if item in list:\n",
    "        while low <= high:\n",
    "            mid = (low + high) // 2\n",
    "            guess = list[mid]\n",
    "            if (guess == item):\n",
    "                return mid\n",
    "            elif guess > item:\n",
    "                high = mid - 1\n",
    "            else:\n",
    "                low = mid + 1\n",
    "    return None"
   ]
  },
  {
   "cell_type": "code",
   "execution_count": 145,
   "metadata": {},
   "outputs": [],
   "source": [
    "max_1 = max(array_1_sorted)\n",
    "max_2 = max(array_2_sorted)\n",
    "max_3 = max(array_3_sorted)\n",
    "max_4 = max(array_4_sorted)\n",
    "max_5 = max(array_5_sorted)"
   ]
  },
  {
   "cell_type": "code",
   "execution_count": 146,
   "metadata": {},
   "outputs": [
    {
     "data": {
      "text/plain": [
       "0.14"
      ]
     },
     "execution_count": 146,
     "metadata": {},
     "output_type": "execute_result"
    }
   ],
   "source": [
    "start_time = time.clock()\n",
    "binary_search(array_1_sorted, max_1)\n",
    "end_time = time.clock()\n",
    "run_time = (end_time - start_time) * 1000\n",
    "array_1_time_bi = round(run_time, 3)\n",
    "array_1_time_bi"
   ]
  },
  {
   "cell_type": "code",
   "execution_count": 147,
   "metadata": {},
   "outputs": [
    {
     "data": {
      "text/plain": [
       "0.103"
      ]
     },
     "execution_count": 147,
     "metadata": {},
     "output_type": "execute_result"
    }
   ],
   "source": [
    "start_time = time.clock()\n",
    "binary_search(array_2_sorted, max_2)\n",
    "end_time = time.clock()\n",
    "run_time = (end_time - start_time) * 1000\n",
    "array_2_time_bi = round(run_time, 3)\n",
    "array_2_time_bi"
   ]
  },
  {
   "cell_type": "code",
   "execution_count": 148,
   "metadata": {},
   "outputs": [
    {
     "data": {
      "text/plain": [
       "0.13"
      ]
     },
     "execution_count": 148,
     "metadata": {},
     "output_type": "execute_result"
    }
   ],
   "source": [
    "start_time = time.clock()\n",
    "binary_search(array_3_sorted, max_3)\n",
    "end_time = time.clock()\n",
    "run_time = (end_time - start_time) * 1000\n",
    "array_3_time_bi = round(run_time, 3)\n",
    "array_3_time_bi"
   ]
  },
  {
   "cell_type": "code",
   "execution_count": 149,
   "metadata": {},
   "outputs": [
    {
     "data": {
      "text/plain": [
       "0.139"
      ]
     },
     "execution_count": 149,
     "metadata": {},
     "output_type": "execute_result"
    }
   ],
   "source": [
    "start_time = time.clock()\n",
    "binary_search(array_4_sorted, max_4)\n",
    "end_time = time.clock()\n",
    "run_time = (end_time - start_time) * 1000\n",
    "array_4_time_bi = round(run_time, 3)\n",
    "array_4_time_bi"
   ]
  },
  {
   "cell_type": "code",
   "execution_count": 150,
   "metadata": {},
   "outputs": [
    {
     "data": {
      "text/plain": [
       "0.166"
      ]
     },
     "execution_count": 150,
     "metadata": {},
     "output_type": "execute_result"
    }
   ],
   "source": [
    "start_time = time.clock()\n",
    "binary_search(array_5_sorted, max_5)\n",
    "end_time = time.clock()\n",
    "run_time = (end_time - start_time) * 1000\n",
    "array_5_time_bi = round(run_time, 3)\n",
    "array_5_time_bi"
   ]
  },
  {
   "cell_type": "markdown",
   "metadata": {},
   "source": [
    "**4. Now we will compare this to a linear search.  Use python (perhaps with the Pandas package) to prepare a five-column table containing the following columns with all times in milliseconds:**\n",
    " * length of the random number array\n",
    " * sort time\n",
    " * linear search time for the sorted array\n",
    " * binary search time for the sorted array\n",
    " * binary search plus sort times\n"
   ]
  },
  {
   "cell_type": "code",
   "execution_count": 151,
   "metadata": {},
   "outputs": [],
   "source": [
    "def linear_search(list, item):\n",
    "    for i in range(len(list)):\n",
    "        if (list[i] == item):\n",
    "            return i;    \n",
    "    return None"
   ]
  },
  {
   "cell_type": "code",
   "execution_count": 152,
   "metadata": {},
   "outputs": [
    {
     "data": {
      "text/plain": [
       "0.598"
      ]
     },
     "execution_count": 152,
     "metadata": {},
     "output_type": "execute_result"
    }
   ],
   "source": [
    "start_time = time.clock()\n",
    "linear_search(array_1_sorted, max_1)\n",
    "end_time = time.clock()\n",
    "run_time = (end_time - start_time) * 1000\n",
    "array_1_time_lin = round(run_time, 3)\n",
    "array_1_time_lin"
   ]
  },
  {
   "cell_type": "code",
   "execution_count": 153,
   "metadata": {},
   "outputs": [
    {
     "data": {
      "text/plain": [
       "0.45"
      ]
     },
     "execution_count": 153,
     "metadata": {},
     "output_type": "execute_result"
    }
   ],
   "source": [
    "start_time = time.clock()\n",
    "linear_search(array_2_sorted, max_2)\n",
    "end_time = time.clock()\n",
    "run_time = (end_time - start_time) * 1000\n",
    "array_2_time_lin = round(run_time, 3)\n",
    "array_2_time_lin"
   ]
  },
  {
   "cell_type": "code",
   "execution_count": 154,
   "metadata": {},
   "outputs": [
    {
     "data": {
      "text/plain": [
       "0.803"
      ]
     },
     "execution_count": 154,
     "metadata": {},
     "output_type": "execute_result"
    }
   ],
   "source": [
    "start_time = time.clock()\n",
    "linear_search(array_3_sorted, max_3)\n",
    "end_time = time.clock()\n",
    "run_time = (end_time - start_time) * 1000\n",
    "array_3_time_lin = round(run_time, 3)\n",
    "array_3_time_lin"
   ]
  },
  {
   "cell_type": "code",
   "execution_count": 155,
   "metadata": {},
   "outputs": [
    {
     "data": {
      "text/plain": [
       "1.755"
      ]
     },
     "execution_count": 155,
     "metadata": {},
     "output_type": "execute_result"
    }
   ],
   "source": [
    "start_time = time.clock()\n",
    "linear_search(array_4_sorted, max_4)\n",
    "end_time = time.clock()\n",
    "run_time = (end_time - start_time) * 1000\n",
    "array_4_time_lin = round(run_time, 3)\n",
    "array_4_time_lin"
   ]
  },
  {
   "cell_type": "code",
   "execution_count": 156,
   "metadata": {},
   "outputs": [
    {
     "data": {
      "text/plain": [
       "2.8"
      ]
     },
     "execution_count": 156,
     "metadata": {},
     "output_type": "execute_result"
    }
   ],
   "source": [
    "start_time = time.clock()\n",
    "linear_search(array_5_sorted, max_5)\n",
    "end_time = time.clock()\n",
    "run_time = (end_time - start_time) * 1000\n",
    "array_5_time_lin = round(run_time, 3)\n",
    "array_5_time_lin"
   ]
  },
  {
   "cell_type": "code",
   "execution_count": 157,
   "metadata": {},
   "outputs": [],
   "source": [
    "array_1_n = len(array_1_sorted)\n",
    "array_2_n = len(array_2_sorted)\n",
    "array_3_n = len(array_3_sorted)\n",
    "array_4_n = len(array_4_sorted)\n",
    "array_5_n = len(array_5_sorted)"
   ]
  },
  {
   "cell_type": "code",
   "execution_count": 158,
   "metadata": {},
   "outputs": [],
   "source": [
    "array_1_bisort = array_1_time_sort + array_1_time_bi\n",
    "array_2_bisort = array_2_time_sort + array_2_time_bi\n",
    "array_3_bisort = array_3_time_sort + array_3_time_bi\n",
    "array_4_bisort = array_4_time_sort + array_4_time_bi\n",
    "array_5_bisort = array_5_time_sort + array_5_time_bi"
   ]
  },
  {
   "cell_type": "raw",
   "metadata": {},
   "source": [
    "Now that all the variables have been defined, the dataframe can be created..."
   ]
  },
  {
   "cell_type": "code",
   "execution_count": 159,
   "metadata": {},
   "outputs": [],
   "source": [
    "array_1_df = pd.DataFrame([[array_1_n, array_1_time_sort, array_1_time_lin, array_1_time_bi, array_1_bisort]])\n",
    "array_2_df = pd.DataFrame([[array_2_n, array_2_time_sort, array_2_time_lin, array_2_time_bi, array_2_bisort]])\n",
    "array_3_df = pd.DataFrame([[array_3_n, array_3_time_sort, array_3_time_lin, array_3_time_bi, array_3_bisort]])\n",
    "array_4_df = pd.DataFrame([[array_4_n, array_4_time_sort, array_4_time_lin, array_4_time_bi, array_4_bisort]])\n",
    "array_5_df = pd.DataFrame([[array_5_n, array_5_time_sort, array_5_time_lin, array_5_time_bi, array_5_bisort]])"
   ]
  },
  {
   "cell_type": "code",
   "execution_count": 160,
   "metadata": {},
   "outputs": [
    {
     "data": {
      "text/html": [
       "<div>\n",
       "<style scoped>\n",
       "    .dataframe tbody tr th:only-of-type {\n",
       "        vertical-align: middle;\n",
       "    }\n",
       "\n",
       "    .dataframe tbody tr th {\n",
       "        vertical-align: top;\n",
       "    }\n",
       "\n",
       "    .dataframe thead th {\n",
       "        text-align: right;\n",
       "    }\n",
       "</style>\n",
       "<table border=\"1\" class=\"dataframe\">\n",
       "  <thead>\n",
       "    <tr style=\"text-align: right;\">\n",
       "      <th></th>\n",
       "      <th>Length</th>\n",
       "      <th>Sort</th>\n",
       "      <th>Linear</th>\n",
       "      <th>Binary</th>\n",
       "      <th>BinarySort</th>\n",
       "    </tr>\n",
       "  </thead>\n",
       "  <tbody>\n",
       "    <tr>\n",
       "      <th>Array 1</th>\n",
       "      <td>512</td>\n",
       "      <td>0.322</td>\n",
       "      <td>0.598</td>\n",
       "      <td>0.140</td>\n",
       "      <td>0.462</td>\n",
       "    </tr>\n",
       "    <tr>\n",
       "      <th>Array 2</th>\n",
       "      <td>1024</td>\n",
       "      <td>0.190</td>\n",
       "      <td>0.450</td>\n",
       "      <td>0.103</td>\n",
       "      <td>0.293</td>\n",
       "    </tr>\n",
       "    <tr>\n",
       "      <th>Array 3</th>\n",
       "      <td>2048</td>\n",
       "      <td>0.300</td>\n",
       "      <td>0.803</td>\n",
       "      <td>0.130</td>\n",
       "      <td>0.430</td>\n",
       "    </tr>\n",
       "    <tr>\n",
       "      <th>Array 4</th>\n",
       "      <td>4096</td>\n",
       "      <td>0.388</td>\n",
       "      <td>1.755</td>\n",
       "      <td>0.139</td>\n",
       "      <td>0.527</td>\n",
       "    </tr>\n",
       "    <tr>\n",
       "      <th>Array 5</th>\n",
       "      <td>8192</td>\n",
       "      <td>1.045</td>\n",
       "      <td>2.800</td>\n",
       "      <td>0.166</td>\n",
       "      <td>1.211</td>\n",
       "    </tr>\n",
       "  </tbody>\n",
       "</table>\n",
       "</div>"
      ],
      "text/plain": [
       "         Length   Sort  Linear  Binary  BinarySort\n",
       "Array 1     512  0.322   0.598   0.140       0.462\n",
       "Array 2    1024  0.190   0.450   0.103       0.293\n",
       "Array 3    2048  0.300   0.803   0.130       0.430\n",
       "Array 4    4096  0.388   1.755   0.139       0.527\n",
       "Array 5    8192  1.045   2.800   0.166       1.211"
      ]
     },
     "execution_count": 160,
     "metadata": {},
     "output_type": "execute_result"
    }
   ],
   "source": [
    "time_df = pd.concat([array_1_df, array_2_df, array_3_df, array_4_df, array_5_df])\n",
    "time_df.columns = [\"Length\", \"Sort\", \"Linear\", \"Binary\", \"BinarySort\"]\n",
    "time_df.index = [\"Array 1\", \"Array 2\", \"Array 3\", \"Array 4\", \"Array 5\"]\n",
    "time_df"
   ]
  },
  {
   "cell_type": "markdown",
   "metadata": {},
   "source": [
    "**5.Use python matplotlib or Seaborn to generate a plot with the size of the random number array on the horizontal axis and with execution time in milliseconds on the vertical axis. The plot should show execution time against array size for linear and binary search algorithms alone.  Discuss the results.**"
   ]
  },
  {
   "cell_type": "code",
   "execution_count": 161,
   "metadata": {},
   "outputs": [
    {
     "data": {
      "text/plain": [
       "[Text(0, 0.5, 'Time (ms)'),\n",
       " Text(0.5, 0, 'Array Length'),\n",
       " Text(0.5, 1.0, 'Linear Search Time by Array Length')]"
      ]
     },
     "execution_count": 161,
     "metadata": {},
     "output_type": "execute_result"
    },
    {
     "data": {
      "image/png": "[encoded data removed]",
      "text/plain": [
       "<Figure size 432x288 with 1 Axes>"
      ]
     },
     "metadata": {
      "needs_background": "light"
     },
     "output_type": "display_data"
    }
   ],
   "source": [
    "fig, lin = plt.subplots()\n",
    "lin.plot(time_df.Length, time_df.Linear)\n",
    "lin.set(xlabel = \"Array Length\", ylabel = \"Time (ms)\", title = \"Linear Search Time by Array Length\")"
   ]
  },
  {
   "cell_type": "code",
   "execution_count": 162,
   "metadata": {},
   "outputs": [
    {
     "data": {
      "text/plain": [
       "[Text(0, 0.5, 'Time (ms)'),\n",
       " Text(0.5, 0, 'Array Length'),\n",
       " Text(0.5, 1.0, 'Binary Search Time by Array Length')]"
      ]
     },
     "execution_count": 162,
     "metadata": {},
     "output_type": "execute_result"
    },
    {
     "data": {
      "image/png": "[encoded data removed]",
      "text/plain": [
       "<Figure size 432x288 with 1 Axes>"
      ]
     },
     "metadata": {
      "needs_background": "light"
     },
     "output_type": "display_data"
    }
   ],
   "source": [
    "fig, lin2 = plt.subplots()\n",
    "lin2.plot(time_df.Length, time_df.Binary)\n",
    "lin2.set(xlabel = \"Array Length\", ylabel = \"Time (ms)\", title = \"Binary Search Time by Array Length\")"
   ]
  },
  {
   "cell_type": "markdown",
   "metadata": {},
   "source": [
    "**6. Use Python matplotlib or Seaborn to generate a measure of the size of the data set on the horizontal axis and with execution time in milliseconds on the vertical axis. The plot should show execution time against array size for each form of the algorithm being tested (last four columns of the table).  Discuss the results.**"
   ]
  },
  {
   "cell_type": "code",
   "execution_count": 163,
   "metadata": {},
   "outputs": [
    {
     "data": {
      "text/plain": [
       "<matplotlib.legend.Legend at 0x175f4089b70>"
      ]
     },
     "execution_count": 163,
     "metadata": {},
     "output_type": "execute_result"
    },
    {
     "data": {
      "image/png": "[encoded data removed]",
      "text/plain": [
       "<Figure size 432x288 with 1 Axes>"
      ]
     },
     "metadata": {
      "needs_background": "light"
     },
     "output_type": "display_data"
    }
   ],
   "source": [
    "plt.plot('Length', 'Sort', data = time_df, color = 'y', label = \"Sort Time\")\n",
    "plt.plot('Length', 'Linear', data = time_df, color = 'm', label = \"Linear Search\")\n",
    "plt.plot('Length', 'Binary', data = time_df, color = 'b', label = \"Binary Search\")\n",
    "plt.plot('Length', 'BinarySort', data = time_df, color = 'g', label = \"Binary + Sort\")\n",
    "plt.xlabel(\"Array Length\")\n",
    "plt.ylabel(\"Time (ms)\")\n",
    "plt.suptitle(\"Array Length vs. Search Times\")\n",
    "plt.legend()"
   ]
  },
  {
   "cell_type": "markdown",
   "metadata": {},
   "source": [
    "### Executive Summary"
   ]
  },
  {
   "cell_type": "markdown",
   "metadata": {},
   "source": [
    "In this exercise, two different algorithms were compared: linear search and binary search.  Linear search looks at each item in a list one by one until it identifies the item it is looking for.  Since we used the max value for each array, linear search went through the entire array before finding the item.  As a result the run time for this algorithm became significantly longer as the size of the list grew.  The performance of linear search increases at a linear rate (N) over time.  On the other hand, binary search starts in the middle of the list and cuts the size of the array in half with each iteration until it finds a match.  The performance of binary search increases at a logarithmic (logN) rate over time.  Compared to linear search, this is significantly faster.\n",
    "<br>\n",
    "<br> Looking at the dataframe and graphs for each algorithm illustrates the effectiveness of binary search.  Though a longer list had longer run times in binary, the difference was measured in tenths of a millisecond.  Linear search, meanwhile, nearly doubled as the length of the list doubled."
   ]
  }
 ],
 "metadata": {
  "kernelspec": {
   "display_name": "Python 3",
   "language": "python",
   "name": "python3"
  },
  "language_info": {
   "codemirror_mode": {
    "name": "ipython",
    "version": 3
   },
   "file_extension": ".py",
   "mimetype": "text/x-python",
   "name": "python",
   "nbconvert_exporter": "python",
   "pygments_lexer": "ipython3",
   "version": "3.7.4"
  }
 },
 "nbformat": 4,
 "nbformat_minor": 2
}
