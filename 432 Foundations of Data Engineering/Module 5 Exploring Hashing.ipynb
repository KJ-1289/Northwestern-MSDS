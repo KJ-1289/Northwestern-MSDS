{
 "cells": [
  {
   "cell_type": "markdown",
   "metadata": {},
   "source": [
    "https://github.com/KJ-1289/432-Foundations-of-Data-Engineering"
   ]
  },
  {
   "cell_type": "code",
   "execution_count": 469,
   "metadata": {},
   "outputs": [],
   "source": [
    "import numpy as np\n",
    "import pandas as pd\n",
    "import matplotlib.pyplot as plt\n",
    "import seaborn as sns\n",
    "import string\n",
    "import random\n",
    "import time\n",
    "import warnings\n",
    "warnings.filterwarnings(\"ignore\")"
   ]
  },
  {
   "cell_type": "markdown",
   "metadata": {},
   "source": [
    "**1. Create the following three datasets:**\n",
    "<br>* Create a list of 100,000 names (randomly pick 10 characters e.g. abcdefghij, any order is fine, just make sure there are no duplicates in the name) and store those names in an unsorted list.\n",
    "<br>* Now store the above names in a set (https://docs.python.org/3.7/library/stdtypes.html ). \n",
    "<br>* Make a separate copy of the list and sort it using any sorting algorithm that you have learned so far and justify why are you using it. Capture the time it takes to sort the list."
   ]
  },
  {
   "cell_type": "code",
   "execution_count": 470,
   "metadata": {},
   "outputs": [],
   "source": [
    "def create_stringarrays(array_length):\n",
    "    string_arrays = [''.join(random.choices(string.ascii_letters, k=10)) for j in range(array_length)]\n",
    "    if len(set(string_arrays)) < array_length:\n",
    "        string_arrays = [''.join(random.choices(string.ascii_letters, k=10)) for j in range(array_length)]\n",
    "        create_stringarrays(array_length)\n",
    "    else:\n",
    "        return string_arrays"
   ]
  },
  {
   "cell_type": "code",
   "execution_count": 471,
   "metadata": {},
   "outputs": [
    {
     "data": {
      "text/plain": [
       "False"
      ]
     },
     "execution_count": 471,
     "metadata": {},
     "output_type": "execute_result"
    }
   ],
   "source": [
    "names_unsrt = create_stringarrays(100000)\n",
    "\n",
    "#Check for duplicates\n",
    "len(np.unique(names_unsrt)) != len(names_unsrt)"
   ]
  },
  {
   "cell_type": "code",
   "execution_count": 472,
   "metadata": {},
   "outputs": [],
   "source": [
    "names_set = set(names_unsrt)"
   ]
  },
  {
   "cell_type": "raw",
   "metadata": {},
   "source": [
    "The sorting algorithm used for the third array is QuickSort.  QuickSort was selected because it was the best performing algorithm in last week's assignment."
   ]
  },
  {
   "cell_type": "code",
   "execution_count": 473,
   "metadata": {},
   "outputs": [],
   "source": [
    "def quicksort(array):\n",
    "    if len(array) < 2:\n",
    "        return array\n",
    "    else:\n",
    "        pivot = array[0]\n",
    "        less = [i for i in array [1:] if i <= pivot]\n",
    "        greater = [i for i in array[1:] if i > pivot]\n",
    "        return quicksort(less) + [pivot] + quicksort(greater)"
   ]
  },
  {
   "cell_type": "code",
   "execution_count": 474,
   "metadata": {},
   "outputs": [
    {
     "data": {
      "text/plain": [
       "275.103"
      ]
     },
     "execution_count": 474,
     "metadata": {},
     "output_type": "execute_result"
    }
   ],
   "source": [
    "start_time = time.clock()\n",
    "names_srt = quicksort(names_unsrt)\n",
    "end_time = time.clock()\n",
    "run_time = (end_time - start_time) * 1000\n",
    "qs_time = run_time\n",
    "round(qs_time, 3)"
   ]
  },
  {
   "cell_type": "markdown",
   "metadata": {},
   "source": [
    "At this point you should have three collections: \n",
    "(1) an unsorted list of names,\n",
    "(2) a set of those same names, and\n",
    "(3) a sorted list of the same names.  \n",
    "\n",
    "Something like this:\n",
    "names_unsrt = ['B', 'X', 'T'],\n",
    "names_set = {'B', 'X', 'T'}, and\n",
    "names_srt = ['B', 'T', 'X'] "
   ]
  },
  {
   "cell_type": "markdown",
   "metadata": {},
   "source": [
    "**2. Pick the names from the unsorted array that are at 10,000th, 30,000th, 50,000th, 70,000th, 90,000th, and 100,000th positions, and store them in a temporary array somewhere for later use.**"
   ]
  },
  {
   "cell_type": "code",
   "execution_count": 475,
   "metadata": {},
   "outputs": [
    {
     "data": {
      "text/plain": [
       "['WtDRdlbkZk',\n",
       " 'DrbLvNTAZC',\n",
       " 'ukPpLKjosh',\n",
       " 'KbXTudpXrP',\n",
       " 'JeViYgiUoZ',\n",
       " 'hPNouEOjgA']"
      ]
     },
     "execution_count": 475,
     "metadata": {},
     "output_type": "execute_result"
    }
   ],
   "source": [
    "temp_array = []\n",
    "positions = [10000, 30000, 50000, 70000, 90000, 100000]\n",
    "\n",
    "for i in positions:\n",
    "    i -= 1 \n",
    "    i_string = names_unsrt[i]\n",
    "    temp_array.append(i_string)\n",
    "\n",
    "temp_array"
   ]
  },
  {
   "cell_type": "markdown",
   "metadata": {},
   "source": [
    "**3. Now search for these six names in each of the collections.  Use linear search for the unsorted list, binary search for the sorted list, and use the set.remove() (or the in keyword) builtin for the set.  Capture the time it takes using all three algorithms.**"
   ]
  },
  {
   "cell_type": "code",
   "execution_count": 476,
   "metadata": {},
   "outputs": [],
   "source": [
    "linear_runtime = []\n",
    "binary_runtime = []\n",
    "setremove_runtime = []"
   ]
  },
  {
   "cell_type": "code",
   "execution_count": 477,
   "metadata": {},
   "outputs": [],
   "source": [
    "def linear_search(list, item):\n",
    "    for i in range(len(list)):\n",
    "        if (list[i] == item):\n",
    "            return i;    \n",
    "    return None"
   ]
  },
  {
   "cell_type": "code",
   "execution_count": 478,
   "metadata": {},
   "outputs": [],
   "source": [
    "for i in temp_array:\n",
    "    start_time = time.clock()\n",
    "    ls = linear_search(names_unsrt, i)\n",
    "    end_time = time.clock()\n",
    "    run_time = (end_time - start_time) * 1000\n",
    "    linear_runtime.append(run_time)"
   ]
  },
  {
   "cell_type": "code",
   "execution_count": 479,
   "metadata": {},
   "outputs": [],
   "source": [
    "def binary_search(list, item):\n",
    "    low = 0\n",
    "    high = len(list) - 1\n",
    "    \n",
    "    if item in list:\n",
    "        while low <= high:\n",
    "            mid = (low + high) // 2\n",
    "            guess = list[mid]\n",
    "            if (guess == item):\n",
    "                return mid\n",
    "            elif guess > item:\n",
    "                high = mid - 1\n",
    "            else:\n",
    "                low = mid + 1\n",
    "    return None"
   ]
  },
  {
   "cell_type": "code",
   "execution_count": 480,
   "metadata": {},
   "outputs": [],
   "source": [
    "for i in temp_array:\n",
    "    start_time = time.clock()\n",
    "    bs = linear_search(names_srt, i)\n",
    "    end_time = time.clock()\n",
    "    run_time = (end_time - start_time) * 1000\n",
    "    binary_runtime.append(run_time)"
   ]
  },
  {
   "cell_type": "code",
   "execution_count": 481,
   "metadata": {},
   "outputs": [],
   "source": [
    "for i in temp_array:\n",
    "    start_time = time.clock()\n",
    "    names_set.remove(i)\n",
    "    end_time = time.clock()\n",
    "    run_time = (end_time - start_time) * 1000\n",
    "    setremove_runtime.append(run_time)"
   ]
  },
  {
   "cell_type": "markdown",
   "metadata": {},
   "source": [
    "**4. Create a table and plot comparing times of linear search, binary search and set lookup for the six names using Python (matplotlib or Seaborn) or JavaScript (D3) visualization tools to illustrate algorithm performance.**"
   ]
  },
  {
   "cell_type": "code",
   "execution_count": 482,
   "metadata": {},
   "outputs": [
    {
     "data": {
      "text/html": [
       "<div>\n",
       "<style scoped>\n",
       "    .dataframe tbody tr th:only-of-type {\n",
       "        vertical-align: middle;\n",
       "    }\n",
       "\n",
       "    .dataframe tbody tr th {\n",
       "        vertical-align: top;\n",
       "    }\n",
       "\n",
       "    .dataframe thead th {\n",
       "        text-align: right;\n",
       "    }\n",
       "</style>\n",
       "<table border=\"1\" class=\"dataframe\">\n",
       "  <thead>\n",
       "    <tr style=\"text-align: right;\">\n",
       "      <th></th>\n",
       "      <th>Position</th>\n",
       "      <th>Linear Search</th>\n",
       "      <th>Binary Search</th>\n",
       "      <th>Set Remove</th>\n",
       "    </tr>\n",
       "  </thead>\n",
       "  <tbody>\n",
       "    <tr>\n",
       "      <td>0</td>\n",
       "      <td>10000</td>\n",
       "      <td>0.6931</td>\n",
       "      <td>7.4307</td>\n",
       "      <td>0.0022</td>\n",
       "    </tr>\n",
       "    <tr>\n",
       "      <td>1</td>\n",
       "      <td>30000</td>\n",
       "      <td>2.8314</td>\n",
       "      <td>1.9549</td>\n",
       "      <td>0.0012</td>\n",
       "    </tr>\n",
       "    <tr>\n",
       "      <td>2</td>\n",
       "      <td>50000</td>\n",
       "      <td>3.6524</td>\n",
       "      <td>9.3964</td>\n",
       "      <td>0.0011</td>\n",
       "    </tr>\n",
       "    <tr>\n",
       "      <td>3</td>\n",
       "      <td>70000</td>\n",
       "      <td>7.4624</td>\n",
       "      <td>2.5607</td>\n",
       "      <td>0.0011</td>\n",
       "    </tr>\n",
       "    <tr>\n",
       "      <td>4</td>\n",
       "      <td>90000</td>\n",
       "      <td>9.1123</td>\n",
       "      <td>1.4400</td>\n",
       "      <td>0.0012</td>\n",
       "    </tr>\n",
       "    <tr>\n",
       "      <td>5</td>\n",
       "      <td>100000</td>\n",
       "      <td>9.5114</td>\n",
       "      <td>4.6504</td>\n",
       "      <td>0.0011</td>\n",
       "    </tr>\n",
       "  </tbody>\n",
       "</table>\n",
       "</div>"
      ],
      "text/plain": [
       "   Position  Linear Search  Binary Search  Set Remove\n",
       "0     10000         0.6931         7.4307      0.0022\n",
       "1     30000         2.8314         1.9549      0.0012\n",
       "2     50000         3.6524         9.3964      0.0011\n",
       "3     70000         7.4624         2.5607      0.0011\n",
       "4     90000         9.1123         1.4400      0.0012\n",
       "5    100000         9.5114         4.6504      0.0011"
      ]
     },
     "execution_count": 482,
     "metadata": {},
     "output_type": "execute_result"
    }
   ],
   "source": [
    "df = pd.DataFrame({\n",
    "    'Position' : positions\n",
    "    ,'Linear Search' : linear_runtime\n",
    "    ,'Binary Search' : binary_runtime\n",
    "    ,'Set Remove'   : setremove_runtime\n",
    "})\n",
    "df"
   ]
  },
  {
   "cell_type": "code",
   "execution_count": 483,
   "metadata": {},
   "outputs": [
    {
     "data": {
      "text/plain": [
       "<matplotlib.legend.Legend at 0x23422f12a08>"
      ]
     },
     "execution_count": 483,
     "metadata": {},
     "output_type": "execute_result"
    },
    {
     "data": {
      "image/png": "[encoded data removed]",
      "text/plain": [
       "<Figure size 432x288 with 1 Axes>"
      ]
     },
     "metadata": {
      "needs_background": "light"
     },
     "output_type": "display_data"
    }
   ],
   "source": [
    "plt.plot('Position', 'Linear Search', data = df, color = 'k', label = \"Linear Search\")\n",
    "plt.plot('Position', 'Binary Search', data = df, color = 'm', label = \"Binary Search\")\n",
    "plt.plot('Position', 'Set Remove', data = df, color = 'b', label = \"Set Remove\")\n",
    "plt.xlabel(\"Index Position\")\n",
    "plt.ylabel(\"Time (ms)\")\n",
    "plt.suptitle(\"Index Position vs. Run Times\")\n",
    "plt.legend()"
   ]
  },
  {
   "cell_type": "markdown",
   "metadata": {},
   "source": [
    "### Executive Summary:"
   ]
  },
  {
   "cell_type": "markdown",
   "metadata": {},
   "source": [
    "In this assignment, we created an unsorted list, a set, and a sorted list.  We then ran different sorting algorithms for each of these.  The first algorithm run was linear search, which was performed on the unsorted list.  Linear search runs at a speed of O(n).  This can be observed in the above plot, as the run times for each index position increase in a linear fashion.  The next algorithm run was binary search, which was performed on the sorted list.  Binary search runs at a speed of O(log n).  Since this was performed on a sorted list, the strings in the temporary array were in different positions.  As a result, the run times were more volatile.  The third algorithm run was set.remove() on a hash table.  Looking up a string in a hash table takes O(1) time.  This can be seen in the table and plot, as run times were constant.  The hash tables also ran significantly faster than the other algorithms.  Overall, set.remove() is the far superior option compared to linear search and binary search."
   ]
  }
 ],
 "metadata": {
  "kernelspec": {
   "display_name": "Python 3",
   "language": "python",
   "name": "python3"
  },
  "language_info": {
   "codemirror_mode": {
    "name": "ipython",
    "version": 3
   },
   "file_extension": ".py",
   "mimetype": "text/x-python",
   "name": "python",
   "nbconvert_exporter": "python",
   "pygments_lexer": "ipython3",
   "version": "3.7.4"
  }
 },
 "nbformat": 4,
 "nbformat_minor": 2
}
