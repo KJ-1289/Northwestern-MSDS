{
 "cells": [
  {
   "cell_type": "code",
   "execution_count": 75,
   "metadata": {},
   "outputs": [],
   "source": [
    "import numpy as np\n",
    "import pandas as pd\n",
    "import matplotlib.pyplot as plt"
   ]
  },
  {
   "cell_type": "markdown",
   "metadata": {},
   "source": [
    "The image below (RoadTrip_NYC_to_L.A.JPG) shows possible routes to take on a road trip.  The nodes represent city names and vertices are the assumed hours the drive would take."
   ]
  },
  {
   "cell_type": "markdown",
   "metadata": {},
   "source": [
    "![title](RoadTrip_NYC_to_L.A.jpg)"
   ]
  },
  {
   "cell_type": "code",
   "execution_count": 76,
   "metadata": {},
   "outputs": [],
   "source": [
    "#Initialize Nodes\n",
    "graph = {}\n",
    "graph['New York'] = {}\n",
    "graph['Washington DC'] = {}\n",
    "graph['Atlanta'] = {}\n",
    "graph['New Orleans'] = {}\n",
    "graph['Dallas'] = {}\n",
    "graph['Indianapolis'] = {}\n",
    "graph['Kansas City'] = {}\n",
    "graph['Denver'] = {}\n",
    "graph['Pittsburgh'] = {}\n",
    "graph['Cincinnati'] = {}\n",
    "graph['St Louis'] = {}\n",
    "graph['Oklahoma City'] = {}\n",
    "graph['Albuquerque'] = {}\n",
    "graph['Salt Lake City'] = {}\n",
    "graph['Phoenix'] = {}\n",
    "graph['Las Vegas'] = {}\n",
    "graph['San Diego'] = {}\n",
    "graph['Los Angeles'] = {}"
   ]
  },
  {
   "cell_type": "code",
   "execution_count": 77,
   "metadata": {},
   "outputs": [],
   "source": [
    "#Establish neighbor relationships\n",
    "graph['New York']['Washington DC'] = 2\n",
    "graph['New York']['Pittsburgh'] = 7\n",
    "graph['New York']['Indianapolis'] = 11\n",
    "\n",
    "graph['Washington DC']['Atlanta'] = 2\n",
    "graph['Atlanta']['New Orleans'] = 2\n",
    "graph['New Orleans']['Dallas'] = 2\n",
    "graph['Dallas']['Albuquerque'] = 2\n",
    "graph['Albuquerque']['Phoenix'] = 2\n",
    "graph['Phoenix']['Las Vegas'] = 2\n",
    "graph['Phoenix']['San Diego'] = 5\n",
    "graph['San Diego']['Los Angeles'] = 2\n",
    "graph['Las Vegas']['San Diego'] = 2\n",
    "graph['Las Vegas']['Los Angeles'] = 5\n",
    "\n",
    "graph['Indianapolis']['Kansas City'] = 8\n",
    "graph['Kansas City']['Denver'] = 7\n",
    "graph['Denver']['Salt Lake City'] = 6\n",
    "graph['Salt Lake City']['Las Vegas'] = 9\n",
    "\n",
    "graph['Pittsburgh']['Cincinnati'] = 6\n",
    "graph['Cincinnati']['St Louis'] = 8\n",
    "graph['St Louis']['Oklahoma City'] = 7\n",
    "graph['Oklahoma City']['Albuquerque'] = 9"
   ]
  },
  {
   "cell_type": "code",
   "execution_count": 78,
   "metadata": {},
   "outputs": [],
   "source": [
    "#Create cost table\n",
    "infinity = float(\"inf\")\n",
    "\n",
    "costs = {}\n",
    "\n",
    "costs['Washington DC'] = 2\n",
    "costs['Atlanta'] = infinity\n",
    "costs['New Orleans'] = infinity\n",
    "costs['Dallas'] = infinity\n",
    "costs['Indianapolis'] = 11\n",
    "costs['Kansas City'] = infinity\n",
    "costs['Denver'] = infinity\n",
    "costs['Pittsburgh'] = 7\n",
    "costs['Cincinnati'] = infinity\n",
    "costs['St Louis'] = infinity\n",
    "costs['Oklahoma City'] = infinity\n",
    "costs['Albuquerque'] = infinity\n",
    "costs['Salt Lake City'] = infinity\n",
    "costs['Phoenix'] = infinity\n",
    "costs['Las Vegas'] = infinity\n",
    "costs['San Diego'] = infinity\n",
    "costs['Los Angeles'] = infinity"
   ]
  },
  {
   "cell_type": "code",
   "execution_count": 79,
   "metadata": {},
   "outputs": [],
   "source": [
    "#Create parent table\n",
    "parents = {}\n",
    "\n",
    "parents['Washington DC'] = \"New York\"\n",
    "parents['Atlanta'] = None\n",
    "parents['New Orleans'] = None\n",
    "parents['Dallas'] = None\n",
    "parents['Indianapolis'] = \"New York\"\n",
    "parents['Kansas City'] = None\n",
    "parents['Denver'] = None\n",
    "parents['Pittsburgh'] = \"New York\"\n",
    "parents['Cincinnati'] = None\n",
    "parents['St Louis'] = None\n",
    "parents['Oklahoma City'] = None\n",
    "parents['Albuquerque'] = None\n",
    "parents['Salt Lake City'] = None\n",
    "parents['Phoenix'] = None\n",
    "parents['Las Vegas'] = None\n",
    "parents['San Diego'] = None\n",
    "parents['Los Angeles'] = None\n",
    "\n",
    "processed = []"
   ]
  },
  {
   "cell_type": "markdown",
   "metadata": {},
   "source": [
    "**1. First, use the breadth-first algorithm to find the quickest way to get to L.A from NYC and calculate the time that it will take to get to L.A. from NYC using the breadth first algorithm.  (Even though BFS does not use weighted edges, we will indirectly use them to calculate the time of the route). <br><br>2. Print the route e.g. NYC -> DC -> ATL etc -> L.A.**"
   ]
  },
  {
   "cell_type": "code",
   "execution_count": 80,
   "metadata": {},
   "outputs": [],
   "source": [
    "def breadth_first(graph, start, finish):\n",
    "    processed = []\n",
    "    queue = [[start]]\n",
    "    if start == finish:\n",
    "        return \"You're already there!\"\n",
    "    while queue:\n",
    "        path = queue.pop(0)\n",
    "        node = path[-1]\n",
    "        if node not in processed:\n",
    "            neighbors = graph[node]\n",
    "            for neighbor in neighbors:\n",
    "                newPath = list(path)\n",
    "                newPath.append(neighbor)\n",
    "                queue.append(newPath)\n",
    "                if neighbor == finish:\n",
    "                    print(\"Here's your route:\")\n",
    "                    return newPath\n",
    "            processed.append(node)\n",
    "    return \"There's no way to get there!\""
   ]
  },
  {
   "cell_type": "code",
   "execution_count": 81,
   "metadata": {},
   "outputs": [
    {
     "name": "stdout",
     "output_type": "stream",
     "text": [
      "Here's your route:\n",
      "['New York', 'Indianapolis', 'Kansas City', 'Denver', 'Salt Lake City', 'Las Vegas', 'Los Angeles']\n"
     ]
    }
   ],
   "source": [
    "bfs_ny_la = breadth_first(graph, 'New York', 'Los Angeles')  \n",
    "print(bfs_ny_la)"
   ]
  },
  {
   "cell_type": "code",
   "execution_count": 82,
   "metadata": {},
   "outputs": [
    {
     "name": "stdout",
     "output_type": "stream",
     "text": [
      "46 hours\n"
     ]
    }
   ],
   "source": [
    "breadth_first_time = (graph['New York']['Indianapolis'] + graph['Indianapolis']['Kansas City']\n",
    "            + graph['Kansas City']['Denver'] + graph['Denver']['Salt Lake City']\n",
    "            + graph['Salt Lake City']['Las Vegas'] + graph['Las Vegas']['Los Angeles'])\n",
    "\n",
    "print('%s hours' % breadth_first_time)"
   ]
  },
  {
   "cell_type": "raw",
   "metadata": {},
   "source": [
    "Using breadth-first search, the shortest route will have a total of 6 stops and will take 46 hours."
   ]
  },
  {
   "cell_type": "markdown",
   "metadata": {},
   "source": [
    "**3. Next, use Dijkstra's algorithm to find the most optimal route to get to L.A from NYC, capture the time that it will take to get to L.A (use the weights in the algorithm assigned to the routes). <br><br>4. Print the route e.g. NYC -> DC -> ATL etc -> L.A.**"
   ]
  },
  {
   "cell_type": "code",
   "execution_count": 83,
   "metadata": {},
   "outputs": [],
   "source": [
    "def findLowestCostNode(costs):\n",
    "    lowestCost = float(\"inf\")\n",
    "    lowestCostNode = None\n",
    "    for node in costs:\n",
    "        cost = costs[node]\n",
    "        if cost < lowestCost and node not in processed:\n",
    "            lowestCost = cost\n",
    "            lowestCostNode = node\n",
    "    return lowestCostNode"
   ]
  },
  {
   "cell_type": "code",
   "execution_count": 84,
   "metadata": {},
   "outputs": [],
   "source": [
    "node = findLowestCostNode(costs)\n",
    "while node is not None:\n",
    "    cost = costs[node]\n",
    "    neighbors = graph[node]\n",
    "    for n in neighbors.keys():\n",
    "        newCost = cost + neighbors[n]\n",
    "        if costs[n] > newCost:\n",
    "            costs[n] = newCost\n",
    "            parents[n] = node\n",
    "    processed.append(node)\n",
    "    node = findLowestCostNode(costs)"
   ]
  },
  {
   "cell_type": "code",
   "execution_count": 85,
   "metadata": {},
   "outputs": [
    {
     "name": "stdout",
     "output_type": "stream",
     "text": [
      "['New York', 'Washington DC', 'Atlanta', 'New Orleans', 'Dallas', 'Albuquerque', 'Phoenix', 'Las Vegas', 'San Diego', 'Los Angeles']\n"
     ]
    }
   ],
   "source": [
    "city = [\"Los Angeles\"]\n",
    "cheapest_route = []\n",
    "city.append(parents.get(\"Los Angeles\"))\n",
    "cheapest_route = list(city)\n",
    "\n",
    "value = []\n",
    "\n",
    "while value is not None:\n",
    "    value = parents.get(city.pop())\n",
    "    city.append(value)\n",
    "    cheapest_route.append(value)\n",
    "\n",
    "cheapest_route.remove(None)\n",
    "cheapest_route.reverse()\n",
    "\n",
    "print(cheapest_route)"
   ]
  },
  {
   "cell_type": "code",
   "execution_count": 86,
   "metadata": {},
   "outputs": [
    {
     "name": "stdout",
     "output_type": "stream",
     "text": [
      "18 hours\n"
     ]
    }
   ],
   "source": [
    "for city in cheapest_route:\n",
    "    cheapest_cost =  costs.get(city)\n",
    "    \n",
    "print('%s hours' % cheapest_cost)"
   ]
  },
  {
   "cell_type": "raw",
   "metadata": {},
   "source": [
    "Using Dijkstra's algorithm, the shortest route will have a total of 9 stops and will take 18 hours."
   ]
  },
  {
   "cell_type": "markdown",
   "metadata": {},
   "source": [
    "**5. Compare time of Breadth-first algorithm with Dijkstra's algorithm in terms of trip time, stops, computation complexity.  Discuss the reason for differences in methods.**"
   ]
  },
  {
   "cell_type": "raw",
   "metadata": {},
   "source": [
    "Breadth-first search found a route that takes 46 hours with 6 stops.  Dijkstra's algorithm found a route that takes 18 hours with 9 stops.  Breadth first works by finding the path with the least number of stops.  However, it operates best for unweighted graphs.  Dijkstra's algorithm works best on weighted graphs such as the one above, by finding the cheapest node in the graph until the final path is created.  This results in more stops but a much shorter route."
   ]
  },
  {
   "cell_type": "markdown",
   "metadata": {},
   "source": [
    "**6. Use Python (matplotlib or Seaborn) or JavaScript (D3) visualization tools to illustrate algorithm performance.**"
   ]
  },
  {
   "cell_type": "code",
   "execution_count": 87,
   "metadata": {},
   "outputs": [
    {
     "data": {
      "image/png": "[encoded data removed]",
      "text/plain": [
       "<Figure size 432x288 with 1 Axes>"
      ]
     },
     "metadata": {
      "needs_background": "light"
     },
     "output_type": "display_data"
    }
   ],
   "source": [
    "plt.bar([\"Breadth-First Search\", \"Dijkstra's\"], [breadth_first_time, cheapest_cost])\n",
    "plt.ylabel(\"Hours to Drive Route\")\n",
    "plt.suptitle(\"Comparing Shortest Path Algorithms\")\n",
    "plt.title(\"Breadth-First vs Dijkstra's Algorithm\")\n",
    "\n",
    "plt.show()"
   ]
  },
  {
   "cell_type": "code",
   "execution_count": 90,
   "metadata": {},
   "outputs": [
    {
     "data": {
      "image/png": "[encoded data removed]",
      "text/plain": [
       "<Figure size 432x288 with 1 Axes>"
      ]
     },
     "metadata": {
      "needs_background": "light"
     },
     "output_type": "display_data"
    }
   ],
   "source": [
    "plt.bar([\"Breadth-First Search\", \"Dijkstra's\"], [len(bfs_ny_la)-1, len(cheapest_route)-1])\n",
    "plt.ylabel(\"Number of Stops\")\n",
    "plt.suptitle(\"Comparing Shortest Path Algorithms\")\n",
    "plt.title(\"Breadth-First vs Dijkstra's Algorithm\")\n",
    "plt.show()"
   ]
  },
  {
   "cell_type": "markdown",
   "metadata": {},
   "source": [
    "### Executive Summary\n",
    "<br>\n",
    "The above assignment compared breadth-first search and Dijkstra's algorithm.  Breadth-first seeks the route with the least amount of stops while Dijkstra's algorithm searches for the \"cheapest\" route at each node.  Breadth-first found a route with only 6 stops.  However, Dijkstra's route got there  28 hours quicker. Overall, I would recommend Dijkstra's algorithm on weighted graphs and breadth-first on unweighted graphs."
   ]
  }
 ],
 "metadata": {
  "kernelspec": {
   "display_name": "Python 3",
   "language": "python",
   "name": "python3"
  },
  "language_info": {
   "codemirror_mode": {
    "name": "ipython",
    "version": 3
   },
   "file_extension": ".py",
   "mimetype": "text/x-python",
   "name": "python",
   "nbconvert_exporter": "python",
   "pygments_lexer": "ipython3",
   "version": "3.7.4"
  }
 },
 "nbformat": 4,
 "nbformat_minor": 2
}
