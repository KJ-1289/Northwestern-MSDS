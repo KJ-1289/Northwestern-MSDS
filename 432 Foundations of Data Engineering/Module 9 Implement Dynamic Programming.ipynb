{
 "cells": [
  {
   "cell_type": "markdown",
   "metadata": {},
   "source": [
    "## Knapsack Problem:"
   ]
  },
  {
   "cell_type": "markdown",
   "metadata": {},
   "source": [
    "Given weights and values of n items, put these items in a knapsack of capacity W to get the maximum total value in the knapsack. In other words, given two integer arrays val[0..n-1] and wt[0..n-1] which represent values and weights associated with n items respectively. Also given an integer W which represents knapsack capacity, find out the maximum value subset of val[] such that sum of the weights of this subset is smaller than or equal to W. You cannot break an item, either pick the complete item, or don’t pick it (0-1 property)."
   ]
  },
  {
   "cell_type": "code",
   "execution_count": 83,
   "metadata": {},
   "outputs": [],
   "source": [
    "val = [60, 100, 120]\n",
    "wt = [10, 20, 30]\n",
    "W = 50\n",
    "n = len(val)"
   ]
  },
  {
   "cell_type": "code",
   "execution_count": 84,
   "metadata": {},
   "outputs": [],
   "source": [
    "def knapSack(W, wt, val, n):\n",
    "    if n == 0 or W == 0 :                                           #Base case\n",
    "        return 0                             \n",
    "    if (wt[n-1] > W):                                        #If the weight of the Nth is more than the capacity of the knapsack\n",
    "        return knapSack(W , wt , val , n-1)                         #Then the item cannot be included in the optimal solution\n",
    "    else:                                                           #Else return the maximum of two cases:\n",
    "        return max(val[n-1] + knapSack(W-wt[n-1] , wt , val , n-1), #(1)Nth item included\n",
    "                   knapSack(W , wt , val , n-1))                    #(2)Nth item not included"
   ]
  },
  {
   "cell_type": "code",
   "execution_count": 85,
   "metadata": {},
   "outputs": [
    {
     "data": {
      "text/plain": [
       "220"
      ]
     },
     "execution_count": 85,
     "metadata": {},
     "output_type": "execute_result"
    }
   ],
   "source": [
    "knapSack(W, wt, val, n)"
   ]
  },
  {
   "cell_type": "markdown",
   "metadata": {},
   "source": [
    "**Recursive Solution:**\n",
    "<br>\n",
    "> In this problem, we are given the weights and values of a \"n\" amount of items, as well as a knapsack of capacity \"W\".  We are asked to fill up the knapsack with the most possible value of items while remaining equal to or under the weight of the knapsack.  The solution to the knapsack problem is applied through a recursive function.  The first line of the knapsack function is the base case, where if N or W is equal to 0, we return a 0.  The next line says that if the weight of the Nth is more than the capacity of the knapsack, then the item cannot be included in the optimal solution.  If neither of these requirements are met, the function will return the maximum value value that can be obtained following two values: (1) Maximum value obtained by N-1 items and W (excluding Nth item), (2) Value of the Nth item plus maximum value obtained by N-1 items and W minus weight of the Nth item (including Nth item)."
   ]
  },
  {
   "cell_type": "markdown",
   "metadata": {},
   "source": [
    "**Dynamic Solution:**\n",
    "> One issue with the Recursive Function is that the function computes the same subfunctions over and over, making it very time consuming.  The run time for this function is O(2^n).  This can be addressed by adding a temporary array K, which allows us to solve the problem in a bottom up manner. From there, the function runs similarly to the recursive function.  The benefit of the dynamic function, however, is that it allows us to store each result into a table and then refer to the table for the optimal solution. The solution of this new dynamic function runs at O(nW) time, where n is the number of items and W is the weight."
   ]
  },
  {
   "cell_type": "code",
   "execution_count": 88,
   "metadata": {},
   "outputs": [],
   "source": [
    "def knapSack(W, wt, val, n): \n",
    "    K = [[0 for x in range(W+1)] for x in range(n+1)]                   #Initialize table K\n",
    "    for i in range(n+1):                                                #Build K in a bottom-up manner\n",
    "        for w in range(W+1): \n",
    "            if i==0 or w==0:                                           \n",
    "                K[i][w] = 0\n",
    "            elif wt[i-1] <= w:                                          \n",
    "                K[i][w] = max(val[i-1] + K[i-1][w-wt[i-1]],  K[i-1][w]) \n",
    "            else: \n",
    "                K[i][w] = K[i-1][w] \n",
    "  \n",
    "    return K[n][W] "
   ]
  },
  {
   "cell_type": "code",
   "execution_count": 89,
   "metadata": {},
   "outputs": [
    {
     "data": {
      "text/plain": [
       "220"
      ]
     },
     "execution_count": 89,
     "metadata": {},
     "output_type": "execute_result"
    }
   ],
   "source": [
    "knapSack(W, wt, val, n)"
   ]
  },
  {
   "cell_type": "markdown",
   "metadata": {},
   "source": [
    "In both algorithms, we arrive at an optimal solution of 220."
   ]
  }
 ],
 "metadata": {
  "kernelspec": {
   "display_name": "Python 3",
   "language": "python",
   "name": "python3"
  },
  "language_info": {
   "codemirror_mode": {
    "name": "ipython",
    "version": 3
   },
   "file_extension": ".py",
   "mimetype": "text/x-python",
   "name": "python",
   "nbconvert_exporter": "python",
   "pygments_lexer": "ipython3",
   "version": "3.7.4"
  }
 },
 "nbformat": 4,
 "nbformat_minor": 2
}
