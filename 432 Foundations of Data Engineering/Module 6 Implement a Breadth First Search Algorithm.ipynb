{
 "cells": [
  {
   "cell_type": "markdown",
   "metadata": {},
   "source": [
    "https://github.com/KJ-1289/432-Foundations-of-Data-Engineering"
   ]
  },
  {
   "cell_type": "code",
   "execution_count": 1,
   "metadata": {},
   "outputs": [],
   "source": [
    "import numpy as np\n",
    "import pandas as pd\n",
    "import matplotlib.pyplot as plt\n",
    "import random\n",
    "import string\n",
    "from collections import deque\n",
    "from statistics import mean\n",
    "import time\n",
    "import warnings\n",
    "warnings.filterwarnings(\"ignore\")"
   ]
  },
  {
   "cell_type": "markdown",
   "metadata": {},
   "source": [
    "**1. Create a five level 'connections' graph (all unique, no duplicates).**\n",
    "<br> * The first level should have five people and each person in first level should have five connections (they can be exclusive to one person or shared with other members on the same level, but all five should be unique, no duplicates)\n",
    "<br> * Each person in the second level should have five connections (they can be exclusive to one person or shared with other members on the same level, but all five should be unique, no duplicates)\n",
    "<br> * Continue the same for third, fourth, and fifth levels\n",
    "<br. * There should be no reverse connections (i.e. first level can connect to second level but second cannot have any reverse connection with the first, and so on for 3rd, 4th, and 5th levels)"
   ]
  },
  {
   "cell_type": "code",
   "execution_count": 2,
   "metadata": {},
   "outputs": [],
   "source": [
    "graph = {}\n",
    "graph[\"You\"] = [\"Alice\", \"Bob\", \"Charlie\", \"Dan\", \"Ellen\"]\n",
    "\n",
    "#Level 1\n",
    "graph[\"Alice\"] = [\"Frank\", \"Greg\", \"Hannah\", \"Isabelle\", \"Jen\"]\n",
    "graph[\"Bob\"] = [\"Frank\", \"Greg\", \"Hannah\", \"Isabelle\", \"Jen\"]\n",
    "graph[\"Charlie\"] = [\"Frank\", \"Greg\", \"Ellen\", \"Hannah\", \"Isabelle\"]\n",
    "graph[\"Dan\"] = [\"Frank\", \"Greg\", \"Ellen\", \"Hannah\", \"Isabelle\"]\n",
    "graph[\"Ellen\"] = [\"Frank\", \"Greg\", \"Ellen\", \"Hannah\", \"Isabelle\"]\n",
    "\n",
    "#Level 2\n",
    "graph[\"Frank\"] = [\"Kevin\", \"Lisa\", \"Michael\", \"Natalie\", \"Oscar\"]\n",
    "graph[\"Greg\"] = [\"Kevin\", \"Lisa\", \"Michael\", \"Natalie\", \"Oscar\"]\n",
    "graph[\"Hannah\"] = [\"Kevin\", \"Lisa\", \"Michael\", \"Natalie\", \"Oscar\"]\n",
    "graph[\"Isabelle\"] = [\"Kevin\", \"Lisa\", \"Michael\", \"Natalie\", \"Oscar\"]\n",
    "graph[\"Jen\"] = [\"Kevin\", \"Lisa\", \"Michael\", \"Natalie\", \"Oscar\"]\n",
    "\n",
    "#Level 3\n",
    "graph[\"Kevin\"] = [\"Paul\", \"Quinn\", \"Rachel\", \"Sam\", \"Terry\"]\n",
    "graph[\"Lisa\"] = [\"Paul\", \"Quinn\", \"Rachel\", \"Sam\", \"Terry\"]\n",
    "graph[\"Michael\"] = [\"Paul\", \"Quinn\", \"Rachel\", \"Sam\", \"Terry\"]\n",
    "graph[\"Natalie\"] = [\"Paul\", \"Quinn\", \"Rachel\", \"Sam\", \"Terry\"]\n",
    "graph[\"Oscar\"] = [\"Paul\", \"Quinn\", \"Rachel\", \"Sam\", \"Terry\"]\n",
    "\n",
    "#Level 4\n",
    "graph[\"Paul\"] = [\"Usher\", \"Vince\", \"Will\", \"Xavier\", \"Yvette\"]\n",
    "graph[\"Quinn\"] = [\"Usher\", \"Vince\", \"Will\", \"Xavier\", \"Yvette\"]\n",
    "graph[\"Rachel\"] = [\"Usher\", \"Vince\", \"Will\", \"Xavier\", \"Yvette\"]\n",
    "graph[\"Sam\"] = [\"Usher\", \"Vince\", \"Will\", \"Xavier\", \"Yvette\"]\n",
    "graph[\"Terry\"] = [\"Usher\", \"Vince\", \"Will\", \"Xavier\", \"Yvette\"]\n",
    "\n",
    "#Level 5\n",
    "graph[\"Usher\"] = [\"Zach\", \"Anna\", \"Bert\", \"Claire\", \"Dave\"]\n",
    "graph[\"Vince\"] = [\"Zach\", \"Anna\", \"Bert\", \"Claire\", \"Dave\"]\n",
    "graph[\"Will\"] = [\"Zach\", \"Anna\", \"Bert\", \"Claire\", \"Dave\"]\n",
    "graph[\"Xavier\"] = [\"Zach\", \"Anna\", \"Bert\", \"Claire\", \"Dave\"]\n",
    "graph[\"Yvette\"] = [\"Zach\", \"Anna\", \"Bert\", \"Claire\", \"Dave\"]\n",
    "\n",
    "#Level 6\n",
    "graph[\"Zach\"] = []\n",
    "graph[\"Anna\"] = []\n",
    "graph[\"Bert\"] = []\n",
    "graph[\"Claire\"] = []\n",
    "graph[\"Dave\"] = []"
   ]
  },
  {
   "cell_type": "markdown",
   "metadata": {},
   "source": [
    "**2. Now search for three people on each level and capture the time for each search.**"
   ]
  },
  {
   "cell_type": "raw",
   "metadata": {},
   "source": [
    "Implement the Breadth-first algorithm:"
   ]
  },
  {
   "cell_type": "code",
   "execution_count": 3,
   "metadata": {},
   "outputs": [],
   "source": [
    "def search(name):\n",
    "    search_queue = deque()\n",
    "    search_queue += graph[\"You\"]\n",
    "    # This array is how you keep track of which people you've searched before.\n",
    "    searched = []\n",
    "    while search_queue:\n",
    "        person = search_queue.popleft()\n",
    "        # Only search this person if you haven't already searched them.\n",
    "        if person not in searched:\n",
    "            if person == name:\n",
    "                return True\n",
    "            else:\n",
    "                search_queue += graph[person]\n",
    "                # Marks this person as searched\n",
    "                searched.append(person)\n",
    "    return False"
   ]
  },
  {
   "cell_type": "code",
   "execution_count": 4,
   "metadata": {},
   "outputs": [],
   "source": [
    "#Level 1\n",
    "start_time = time.clock()\n",
    "search(\"Alice\")\n",
    "end_time = time.clock()\n",
    "run_time = (end_time - start_time) * 1000\n",
    "Alice_time = round(run_time, 3)\n",
    "\n",
    "start_time = time.clock()\n",
    "search(\"Charlie\")\n",
    "end_time = time.clock()\n",
    "run_time = (end_time - start_time) * 1000\n",
    "Charlie_time = round(run_time, 3)\n",
    "\n",
    "start_time = time.clock()\n",
    "search(\"Ellen\")\n",
    "end_time = time.clock()\n",
    "run_time = (end_time - start_time) * 1000\n",
    "Ellen_time = round(run_time, 3)\n",
    "\n",
    "#Level 2\n",
    "start_time = time.clock()\n",
    "search(\"Frank\")\n",
    "end_time = time.clock()\n",
    "run_time = (end_time - start_time) * 1000\n",
    "Frank_time = round(run_time, 3)\n",
    "\n",
    "start_time = time.clock()\n",
    "search(\"Hannah\")\n",
    "end_time = time.clock()\n",
    "run_time = (end_time - start_time) * 1000\n",
    "Hannah_time = round(run_time, 3)\n",
    "\n",
    "start_time = time.clock()\n",
    "search(\"Jen\")\n",
    "end_time = time.clock()\n",
    "run_time = (end_time - start_time) * 1000\n",
    "Jen_time = round(run_time, 3)\n",
    "\n",
    "#Level 3\n",
    "start_time = time.clock()\n",
    "search(\"Kevin\")\n",
    "end_time = time.clock()\n",
    "run_time = (end_time - start_time) * 1000\n",
    "Kevin_time = round(run_time, 3)\n",
    "\n",
    "start_time = time.clock()\n",
    "search(\"Kevin\")\n",
    "end_time = time.clock()\n",
    "run_time = (end_time - start_time) * 1000\n",
    "Michael_time = round(run_time, 3)\n",
    "\n",
    "start_time = time.clock()\n",
    "search(\"Oscar\")\n",
    "end_time = time.clock()\n",
    "run_time = (end_time - start_time) * 1000\n",
    "Oscar_time = round(run_time, 3)\n",
    "\n",
    "#Level 4\n",
    "start_time = time.clock()\n",
    "search(\"Paul\")\n",
    "end_time = time.clock()\n",
    "run_time = (end_time - start_time) * 1000\n",
    "Paul_time = round(run_time, 3)\n",
    "\n",
    "start_time = time.clock()\n",
    "search(\"Rachel\")\n",
    "end_time = time.clock()\n",
    "run_time = (end_time - start_time) * 1000\n",
    "Rachel_time = round(run_time, 3)\n",
    "\n",
    "start_time = time.clock()\n",
    "search(\"Terry\")\n",
    "end_time = time.clock()\n",
    "run_time = (end_time - start_time) * 1000\n",
    "Terry_time = round(run_time, 3)\n",
    "\n",
    "#Level 5\n",
    "start_time = time.clock()\n",
    "search(\"Usher\")\n",
    "end_time = time.clock()\n",
    "run_time = (end_time - start_time) * 1000\n",
    "Usher_time = round(run_time, 3)\n",
    "\n",
    "start_time = time.clock()\n",
    "search(\"Will\")\n",
    "end_time = time.clock()\n",
    "run_time = (end_time - start_time) * 1000\n",
    "Will_time = round(run_time, 3)\n",
    "\n",
    "start_time = time.clock()\n",
    "search(\"Yvette\")\n",
    "end_time = time.clock()\n",
    "run_time = (end_time - start_time) * 1000\n",
    "Yvette_time = round(run_time, 3)"
   ]
  },
  {
   "cell_type": "markdown",
   "metadata": {},
   "source": [
    "**3. Organize the results of the study into an table showing the 'name' that you searched for, the level of the search (first, second, third, fourth, fifth), and the time it took.  Discuss any findings.**"
   ]
  },
  {
   "cell_type": "code",
   "execution_count": 5,
   "metadata": {},
   "outputs": [],
   "source": [
    "data = {\n",
    "    \"Names\": [\"Alice\", \"Charlie\", \"Ellen\", \"Frank\", \"Hannah\", \"Jen\", \"Kevin\", \"Michael\", \"Oscar\", \"Paul\", \"Rachel\", \"Terry\",\n",
    "             \"Usher\", \"Will\", \"Yvette\"],\n",
    "    \"Run Time (ms)\" : [Alice_time, Charlie_time, Ellen_time, Frank_time, Hannah_time, Jen_time, Kevin_time, Michael_time, \n",
    "                      Oscar_time, Paul_time, Rachel_time, Terry_time, Usher_time, Will_time, Yvette_time]\n",
    "}\n",
    "df = pd.DataFrame(data, columns = [\"Names\", \"Run Time (ms)\"],\n",
    "                 index = [\"Level 1\", \"Level 1\", \"Level 1\", \"Level 2\", \"Level 2\", \"Level 2\", \"Level 3\", \"Level 3\", \"Level 3\",\n",
    "                         \"Level 4\", \"Level 4\", \"Level 4\", \"Level 5\", \"Level 5\", \"Level 5\"])"
   ]
  },
  {
   "cell_type": "code",
   "execution_count": 6,
   "metadata": {},
   "outputs": [
    {
     "data": {
      "text/html": [
       "<div>\n",
       "<style scoped>\n",
       "    .dataframe tbody tr th:only-of-type {\n",
       "        vertical-align: middle;\n",
       "    }\n",
       "\n",
       "    .dataframe tbody tr th {\n",
       "        vertical-align: top;\n",
       "    }\n",
       "\n",
       "    .dataframe thead th {\n",
       "        text-align: right;\n",
       "    }\n",
       "</style>\n",
       "<table border=\"1\" class=\"dataframe\">\n",
       "  <thead>\n",
       "    <tr style=\"text-align: right;\">\n",
       "      <th></th>\n",
       "      <th>Names</th>\n",
       "      <th>Run Time (ms)</th>\n",
       "    </tr>\n",
       "  </thead>\n",
       "  <tbody>\n",
       "    <tr>\n",
       "      <td>Level 1</td>\n",
       "      <td>Alice</td>\n",
       "      <td>0.140</td>\n",
       "    </tr>\n",
       "    <tr>\n",
       "      <td>Level 1</td>\n",
       "      <td>Charlie</td>\n",
       "      <td>0.104</td>\n",
       "    </tr>\n",
       "    <tr>\n",
       "      <td>Level 1</td>\n",
       "      <td>Ellen</td>\n",
       "      <td>0.098</td>\n",
       "    </tr>\n",
       "    <tr>\n",
       "      <td>Level 2</td>\n",
       "      <td>Frank</td>\n",
       "      <td>0.096</td>\n",
       "    </tr>\n",
       "    <tr>\n",
       "      <td>Level 2</td>\n",
       "      <td>Hannah</td>\n",
       "      <td>0.096</td>\n",
       "    </tr>\n",
       "    <tr>\n",
       "      <td>Level 2</td>\n",
       "      <td>Jen</td>\n",
       "      <td>0.096</td>\n",
       "    </tr>\n",
       "    <tr>\n",
       "      <td>Level 3</td>\n",
       "      <td>Kevin</td>\n",
       "      <td>0.103</td>\n",
       "    </tr>\n",
       "    <tr>\n",
       "      <td>Level 3</td>\n",
       "      <td>Michael</td>\n",
       "      <td>0.103</td>\n",
       "    </tr>\n",
       "    <tr>\n",
       "      <td>Level 3</td>\n",
       "      <td>Oscar</td>\n",
       "      <td>0.106</td>\n",
       "    </tr>\n",
       "    <tr>\n",
       "      <td>Level 4</td>\n",
       "      <td>Paul</td>\n",
       "      <td>0.115</td>\n",
       "    </tr>\n",
       "    <tr>\n",
       "      <td>Level 4</td>\n",
       "      <td>Rachel</td>\n",
       "      <td>0.118</td>\n",
       "    </tr>\n",
       "    <tr>\n",
       "      <td>Level 4</td>\n",
       "      <td>Terry</td>\n",
       "      <td>0.120</td>\n",
       "    </tr>\n",
       "    <tr>\n",
       "      <td>Level 5</td>\n",
       "      <td>Usher</td>\n",
       "      <td>0.132</td>\n",
       "    </tr>\n",
       "    <tr>\n",
       "      <td>Level 5</td>\n",
       "      <td>Will</td>\n",
       "      <td>0.133</td>\n",
       "    </tr>\n",
       "    <tr>\n",
       "      <td>Level 5</td>\n",
       "      <td>Yvette</td>\n",
       "      <td>0.135</td>\n",
       "    </tr>\n",
       "  </tbody>\n",
       "</table>\n",
       "</div>"
      ],
      "text/plain": [
       "           Names  Run Time (ms)\n",
       "Level 1    Alice          0.140\n",
       "Level 1  Charlie          0.104\n",
       "Level 1    Ellen          0.098\n",
       "Level 2    Frank          0.096\n",
       "Level 2   Hannah          0.096\n",
       "Level 2      Jen          0.096\n",
       "Level 3    Kevin          0.103\n",
       "Level 3  Michael          0.103\n",
       "Level 3    Oscar          0.106\n",
       "Level 4     Paul          0.115\n",
       "Level 4   Rachel          0.118\n",
       "Level 4    Terry          0.120\n",
       "Level 5    Usher          0.132\n",
       "Level 5     Will          0.133\n",
       "Level 5   Yvette          0.135"
      ]
     },
     "execution_count": 6,
     "metadata": {},
     "output_type": "execute_result"
    }
   ],
   "source": [
    "df"
   ]
  },
  {
   "cell_type": "markdown",
   "metadata": {},
   "source": [
    "The breadth-first algorithm runs at a time of O(V+E).  In this graph, that means the number of people plus the number of edges.  For comparison, I ran the first, third, and fifth nodes in each level.  Looking at the results in the dataframe, the nodes from each level increase about .001 to .002 milliseconds.  Meanwhile, run time when for each level increases at each.  Level 2 to Level 3 increases .007 milliseconds, Level 3 to Level 4 .009 milliseconds, and Level 4 to Level 5 .120 milliseconds."
   ]
  },
  {
   "cell_type": "markdown",
   "metadata": {},
   "source": [
    "**4. Using the average time for each level, create a plot and compare times at each level (five bars or any other suitable visual).  Discuss any findings.**"
   ]
  },
  {
   "cell_type": "code",
   "execution_count": 7,
   "metadata": {},
   "outputs": [],
   "source": [
    "level_1 = np.array([Alice_time, Charlie_time, Ellen_time])\n",
    "level_1_times = np.mean(level_1)\n",
    "\n",
    "level_2 = np.array([Frank_time, Hannah_time, Jen_time])\n",
    "level_2_times = np.mean(level_2)\n",
    "\n",
    "level_3 = np.array([Kevin_time, Michael_time, Oscar_time])\n",
    "level_3_times = np.mean(level_3)\n",
    "\n",
    "level_4 = np.array([Paul_time, Rachel_time, Terry_time])\n",
    "level_4_times = np.mean(level_4)\n",
    "\n",
    "level_5 = np.array([Usher_time, Will_time, Yvette_time])\n",
    "level_5_times = np.mean(level_5)"
   ]
  },
  {
   "cell_type": "code",
   "execution_count": 8,
   "metadata": {},
   "outputs": [
    {
     "data": {
      "image/png": "[encoded data removed]",
      "text/plain": [
       "<Figure size 432x288 with 1 Axes>"
      ]
     },
     "metadata": {
      "needs_background": "light"
     },
     "output_type": "display_data"
    }
   ],
   "source": [
    "plt.bar([\"Level 1\", \"Level 2\", \"Level 3\", \"Level 4\", \"Level 5\"], \n",
    "        [level_1_times, level_2_times, level_3_times, level_4_times, level_5_times])\n",
    "plt.ylabel('Average Run Time (ms)')\n",
    "plt.title('Breadth First Search Execution Time')\n",
    "plt.show()"
   ]
  },
  {
   "cell_type": "markdown",
   "metadata": {},
   "source": [
    "Keep in mind Level 1 took slightly longer due to intializing.  From there, we see Level 2 runs the quickest followed by gradual increases in run times for this level.  For the most part, the run times increase in a linear fashion.  Just as we saw when looking at the dataframe, this goes along with O(V+E) run time."
   ]
  },
  {
   "cell_type": "markdown",
   "metadata": {},
   "source": [
    "### Executive Summary:"
   ]
  },
  {
   "cell_type": "markdown",
   "metadata": {},
   "source": [
    "Breadth-first is an algorithm that lets you find the shortest distance between two things.  In this assignment, we built five levels of nodes with five connections each.  We then ran a breadth-first algorithm on three nodes for each level.  Looking at the results, the run times increased linearly with each level.  This is in line with an O(V+E) run time.  Overall, breadth-first is a good algorithm in finding the minimal solution in cases of multiple paths.  However, due to the run time, it may be more optimal to run when searching for nodes towards the top of the graph."
   ]
  }
 ],
 "metadata": {
  "kernelspec": {
   "display_name": "Python 3",
   "language": "python",
   "name": "python3"
  },
  "language_info": {
   "codemirror_mode": {
    "name": "ipython",
    "version": 3
   },
   "file_extension": ".py",
   "mimetype": "text/x-python",
   "name": "python",
   "nbconvert_exporter": "python",
   "pygments_lexer": "ipython3",
   "version": "3.7.4"
  }
 },
 "nbformat": 4,
 "nbformat_minor": 2
}
