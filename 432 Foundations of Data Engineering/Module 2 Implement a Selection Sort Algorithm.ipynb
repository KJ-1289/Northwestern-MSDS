{
 "cells": [
  {
   "cell_type": "markdown",
   "metadata": {},
   "source": [
    "https://github.com/KJ-1289/432-Foundations-of-Data-Engineering"
   ]
  },
  {
   "cell_type": "code",
   "execution_count": 2,
   "metadata": {},
   "outputs": [],
   "source": [
    "import numpy as np\n",
    "import pandas as pd\n",
    "import matplotlib.pyplot as plt\n",
    "import seaborn as sns\n",
    "import time\n",
    "import warnings \n",
    "warnings.filterwarnings(\"ignore\")"
   ]
  },
  {
   "cell_type": "markdown",
   "metadata": {},
   "source": [
    "**1. We will again generate random data for this assignment.  Please set up five data arrays of length 5,000, 10,000, 15,000, 20,000, and 25,000 of uniformly distributed random numbers (you may use either integers or floating point).  Ensure that a common random number seed is used to generate each of the arrays.**"
   ]
  },
  {
   "cell_type": "code",
   "execution_count": 3,
   "metadata": {},
   "outputs": [],
   "source": [
    "np.random.seed(123)\n",
    "\n",
    "def create_stringarrays(array_length):\n",
    "    string_arrays = [''.join(random.choices(string.ascii_letters, k=50)) for j in range(array_length)]\n",
    "    if len(set(string_arrays)) < array_length:\n",
    "        string_arrays = [''.join(random.choices(string.ascii_letters, k=50)) for j in range(array_length)]\n",
    "        create_stringarrays(array_length)\n",
    "    else:\n",
    "        print('All set!')\n",
    "    return string_arrays"
   ]
  },
  {
   "cell_type": "code",
   "execution_count": 3,
   "metadata": {},
   "outputs": [],
   "source": [
    "array_1_n = len(array_1)\n",
    "array_2_n = len(array_2)\n",
    "array_3_n = len(array_3)\n",
    "array_4_n = len(array_4)\n",
    "array_5_n = len(array_5)"
   ]
  },
  {
   "cell_type": "markdown",
   "metadata": {},
   "source": [
    "**2.Execute the base algorithm (Selection Sort) for each of the random number arrays, noting the execution time with each execution. Use one of the timing methods we learned in class.**"
   ]
  },
  {
   "cell_type": "code",
   "execution_count": 4,
   "metadata": {},
   "outputs": [],
   "source": [
    "def findSmallest(arr):\n",
    "    smallest = arr[0]\n",
    "    smallest_index = 0\n",
    "    for i in range (1, len(arr)):\n",
    "        if arr[i] < smallest:\n",
    "            smallest = arr[i]\n",
    "            smallest_index = i\n",
    "    return smallest_index"
   ]
  },
  {
   "cell_type": "code",
   "execution_count": 5,
   "metadata": {},
   "outputs": [],
   "source": [
    "def selectionSort(arr):\n",
    "    newArr = []\n",
    "    for i in range (len(arr)):\n",
    "        smallest = findSmallest(arr)\n",
    "        newArr.append(arr.pop(smallest))\n",
    "    return newArr"
   ]
  },
  {
   "cell_type": "code",
   "execution_count": 6,
   "metadata": {},
   "outputs": [
    {
     "data": {
      "text/plain": [
       "1051.709"
      ]
     },
     "execution_count": 6,
     "metadata": {},
     "output_type": "execute_result"
    }
   ],
   "source": [
    "start_time = time.clock()\n",
    "selectionSort(array_1)\n",
    "end_time = time.clock()\n",
    "run_time = (end_time - start_time) * 1000\n",
    "array_1_time = round(run_time, 3)\n",
    "array_1_time"
   ]
  },
  {
   "cell_type": "code",
   "execution_count": 7,
   "metadata": {},
   "outputs": [
    {
     "data": {
      "text/plain": [
       "3327.336"
      ]
     },
     "execution_count": 7,
     "metadata": {},
     "output_type": "execute_result"
    }
   ],
   "source": [
    "start_time = time.clock()\n",
    "selectionSort(array_2)\n",
    "end_time = time.clock()\n",
    "run_time = (end_time - start_time) * 1000\n",
    "array_2_time = round(run_time, 3)\n",
    "array_2_time"
   ]
  },
  {
   "cell_type": "code",
   "execution_count": 8,
   "metadata": {},
   "outputs": [
    {
     "data": {
      "text/plain": [
       "7783.289"
      ]
     },
     "execution_count": 8,
     "metadata": {},
     "output_type": "execute_result"
    }
   ],
   "source": [
    "start_time = time.clock()\n",
    "selectionSort(array_3)\n",
    "end_time = time.clock()\n",
    "run_time = (end_time - start_time) * 1000\n",
    "array_3_time = round(run_time, 3)\n",
    "array_3_time"
   ]
  },
  {
   "cell_type": "code",
   "execution_count": 9,
   "metadata": {},
   "outputs": [
    {
     "data": {
      "text/plain": [
       "13174.596"
      ]
     },
     "execution_count": 9,
     "metadata": {},
     "output_type": "execute_result"
    }
   ],
   "source": [
    "start_time = time.clock()\n",
    "selectionSort(array_4)\n",
    "end_time = time.clock()\n",
    "run_time = (end_time - start_time) * 1000\n",
    "array_4_time = round(run_time, 3)\n",
    "array_4_time"
   ]
  },
  {
   "cell_type": "code",
   "execution_count": 10,
   "metadata": {},
   "outputs": [
    {
     "data": {
      "text/plain": [
       "20087.029"
      ]
     },
     "execution_count": 10,
     "metadata": {},
     "output_type": "execute_result"
    }
   ],
   "source": [
    "start_time = time.clock()\n",
    "selectionSort(array_5)\n",
    "end_time = time.clock()\n",
    "run_time = (end_time - start_time) * 1000\n",
    "array_5_time = round(run_time, 3)\n",
    "array_5_time"
   ]
  },
  {
   "cell_type": "markdown",
   "metadata": {},
   "source": [
    "**3.Just as in the last assignment, please organize the results of the study into a table showing the size of data array and the time taken to sort the array. Discuss the differences in timing and how they relate to data type and length of array.** "
   ]
  },
  {
   "cell_type": "code",
   "execution_count": 11,
   "metadata": {},
   "outputs": [],
   "source": [
    "array_1_df = pd.DataFrame([[array_1_n, array_1_time]])\n",
    "array_2_df = pd.DataFrame([[array_2_n, array_2_time]])\n",
    "array_3_df = pd.DataFrame([[array_3_n, array_3_time]])\n",
    "array_4_df = pd.DataFrame([[array_4_n, array_4_time]])\n",
    "array_5_df = pd.DataFrame([[array_5_n, array_5_time]])"
   ]
  },
  {
   "cell_type": "code",
   "execution_count": 12,
   "metadata": {},
   "outputs": [
    {
     "data": {
      "text/html": [
       "<div>\n",
       "<style scoped>\n",
       "    .dataframe tbody tr th:only-of-type {\n",
       "        vertical-align: middle;\n",
       "    }\n",
       "\n",
       "    .dataframe tbody tr th {\n",
       "        vertical-align: top;\n",
       "    }\n",
       "\n",
       "    .dataframe thead th {\n",
       "        text-align: right;\n",
       "    }\n",
       "</style>\n",
       "<table border=\"1\" class=\"dataframe\">\n",
       "  <thead>\n",
       "    <tr style=\"text-align: right;\">\n",
       "      <th></th>\n",
       "      <th>Length</th>\n",
       "      <th>Time (ms)</th>\n",
       "    </tr>\n",
       "  </thead>\n",
       "  <tbody>\n",
       "    <tr>\n",
       "      <th>Array 1</th>\n",
       "      <td>5000</td>\n",
       "      <td>1051.709</td>\n",
       "    </tr>\n",
       "    <tr>\n",
       "      <th>Array 2</th>\n",
       "      <td>10000</td>\n",
       "      <td>3327.336</td>\n",
       "    </tr>\n",
       "    <tr>\n",
       "      <th>Array 3</th>\n",
       "      <td>15000</td>\n",
       "      <td>7783.289</td>\n",
       "    </tr>\n",
       "    <tr>\n",
       "      <th>Array 4</th>\n",
       "      <td>20000</td>\n",
       "      <td>13174.596</td>\n",
       "    </tr>\n",
       "    <tr>\n",
       "      <th>Array 5</th>\n",
       "      <td>25000</td>\n",
       "      <td>20087.029</td>\n",
       "    </tr>\n",
       "  </tbody>\n",
       "</table>\n",
       "</div>"
      ],
      "text/plain": [
       "         Length  Time (ms)\n",
       "Array 1    5000   1051.709\n",
       "Array 2   10000   3327.336\n",
       "Array 3   15000   7783.289\n",
       "Array 4   20000  13174.596\n",
       "Array 5   25000  20087.029"
      ]
     },
     "execution_count": 12,
     "metadata": {},
     "output_type": "execute_result"
    }
   ],
   "source": [
    "time_df = pd.concat([array_1_df, array_2_df, array_3_df, array_4_df, array_5_df])\n",
    "time_df.columns = [\"Length\", \"Time (ms)\"]\n",
    "time_df.index = [\"Array 1\", \"Array 2\", \"Array 3\", \"Array 4\", \"Array 5\"]\n",
    "time_df"
   ]
  },
  {
   "cell_type": "markdown",
   "metadata": {},
   "source": [
    "**4.Use Python matplotlib or Seaborn to generate a measure of the size of the data set on the horizontal axis and with execution time in milliseconds on the vertical axis. The plot should show execution time against problem size for each form of the algorithm being tested.**"
   ]
  },
  {
   "cell_type": "code",
   "execution_count": 13,
   "metadata": {},
   "outputs": [
    {
     "data": {
      "text/plain": [
       "<matplotlib.legend.Legend at 0x1497e162a20>"
      ]
     },
     "execution_count": 13,
     "metadata": {},
     "output_type": "execute_result"
    },
    {
     "data": {
      "image/png": "[encoded data removed]",
      "text/plain": [
       "<Figure size 432x288 with 1 Axes>"
      ]
     },
     "metadata": {
      "needs_background": "light"
     },
     "output_type": "display_data"
    }
   ],
   "source": [
    "plt.plot('Length', 'Time (ms)', data = time_df, color = 'k', label = \"Sort Time\")\n",
    "plt.xlabel(\"Array Length\")\n",
    "plt.ylabel(\"Time (ms)\")\n",
    "plt.suptitle(\"Array Length vs. Selection Sort Times\")\n",
    "plt.legend()"
   ]
  },
  {
   "cell_type": "markdown",
   "metadata": {},
   "source": [
    "### Executive Summary"
   ]
  },
  {
   "cell_type": "markdown",
   "metadata": {},
   "source": [
    "In this exercise, we implemented a Selection Sort algorithm.  Selection Sort works by repeatedly finding the minimum element and putting it at the beginning.  In every iteration, the minimum element from the unsorted subarray is picked and moved to the sorted subarray.  Each iteration of the algorithm takes O(n) time to run, and must be run n amount of times.  Therefore, Selection Sort takes O(n^2) times to run.  While Selection Sort may work for smaller arrays, the longer the array causes run time to add exponentially.  As you can see in the above dataframe, each addition of 5000 elements to the array caused the run time to nearly double.  This is also illustrated in the graph, where run time takes the typical logarithmic shape. Overall, Selection Sort is not very efficient."
   ]
  }
 ],
 "metadata": {
  "kernelspec": {
   "display_name": "Python 3",
   "language": "python",
   "name": "python3"
  },
  "language_info": {
   "codemirror_mode": {
    "name": "ipython",
    "version": 3
   },
   "file_extension": ".py",
   "mimetype": "text/x-python",
   "name": "python",
   "nbconvert_exporter": "python",
   "pygments_lexer": "ipython3",
   "version": "3.7.4"
  }
 },
 "nbformat": 4,
 "nbformat_minor": 2
}
