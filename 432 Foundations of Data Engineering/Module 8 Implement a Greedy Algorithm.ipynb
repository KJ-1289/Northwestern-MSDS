{
 "cells": [
  {
   "cell_type": "markdown",
   "metadata": {},
   "source": [
    "https://github.com/KJ-1289/432-Foundations-of-Data-Engineering"
   ]
  },
  {
   "cell_type": "markdown",
   "metadata": {},
   "source": [
    "### Problem Statement:\n",
    "\n",
    "**1. Assume you run a small security company that provides physical security services in the area and you recently won a new contract in the area to provide 24x7 security to a small building under construction.  For simplicity we will design the solution for only 24 hours.**\n",
    "<br>\n",
    "<br>\n",
    "**2. You have 6 security guards available at the moment who you can assign to this building but your goal is to make more money out of this contract and spend less in wages.**\n",
    "<br>\n",
    "<br>\n",
    "**3. The cost/wage structure is as follows:**\n",
    "- People working less than or equal to 8 hours will be paid \\\\$15 per hour\n",
    "\n",
    "- Anyone working overtime (>8 hours) will be paid an additional \\\\$5 per hour (\\\\$20 per hour)."
   ]
  },
  {
   "cell_type": "markdown",
   "metadata": {},
   "source": [
    "### Questions:"
   ]
  },
  {
   "cell_type": "markdown",
   "metadata": {},
   "source": [
    "**1. Create a greedy algorithm (come up with any algorithm of your own) that finds you the most cost effective solution e.g. Should we appoint 2 security guards for 12 hours each? Or 3 of them for 8 hours each? Or 4 for 6 hours each? Or all 6 for 4 hours each? Or any other combination?**"
   ]
  },
  {
   "cell_type": "code",
   "execution_count": 14,
   "metadata": {},
   "outputs": [],
   "source": [
    "import numpy as np\n",
    "import pandas as pd"
   ]
  },
  {
   "cell_type": "code",
   "execution_count": 15,
   "metadata": {},
   "outputs": [],
   "source": [
    "#Set the parameters:\n",
    "base_wage = 15\n",
    "overtime_wage = 20\n",
    "overtime_hours = 8\n",
    "max_workers = 6\n",
    "\n",
    "#Daily Costs\n",
    "hours = 24\n",
    "non_ot_total_cost = 360\n",
    "max_hours = 8\n",
    "\n",
    "wages = [base_wage, overtime_wage]"
   ]
  },
  {
   "cell_type": "code",
   "execution_count": 16,
   "metadata": {},
   "outputs": [
    {
     "data": {
      "text/html": [
       "<div>\n",
       "<style scoped>\n",
       "    .dataframe tbody tr th:only-of-type {\n",
       "        vertical-align: middle;\n",
       "    }\n",
       "\n",
       "    .dataframe tbody tr th {\n",
       "        vertical-align: top;\n",
       "    }\n",
       "\n",
       "    .dataframe thead th {\n",
       "        text-align: right;\n",
       "    }\n",
       "</style>\n",
       "<table border=\"1\" class=\"dataframe\">\n",
       "  <thead>\n",
       "    <tr style=\"text-align: right;\">\n",
       "      <th></th>\n",
       "      <th>Worker</th>\n",
       "      <th>1 Day Hours</th>\n",
       "    </tr>\n",
       "  </thead>\n",
       "  <tbody>\n",
       "    <tr>\n",
       "      <td>0</td>\n",
       "      <td>Guard 1</td>\n",
       "      <td>4.0</td>\n",
       "    </tr>\n",
       "    <tr>\n",
       "      <td>1</td>\n",
       "      <td>Guard 2</td>\n",
       "      <td>4.0</td>\n",
       "    </tr>\n",
       "    <tr>\n",
       "      <td>2</td>\n",
       "      <td>Guard 3</td>\n",
       "      <td>4.0</td>\n",
       "    </tr>\n",
       "    <tr>\n",
       "      <td>3</td>\n",
       "      <td>Guard 4</td>\n",
       "      <td>4.0</td>\n",
       "    </tr>\n",
       "    <tr>\n",
       "      <td>4</td>\n",
       "      <td>Guard 5</td>\n",
       "      <td>4.0</td>\n",
       "    </tr>\n",
       "    <tr>\n",
       "      <td>5</td>\n",
       "      <td>Guard 6</td>\n",
       "      <td>4.0</td>\n",
       "    </tr>\n",
       "  </tbody>\n",
       "</table>\n",
       "</div>"
      ],
      "text/plain": [
       "    Worker  1 Day Hours\n",
       "0  Guard 1          4.0\n",
       "1  Guard 2          4.0\n",
       "2  Guard 3          4.0\n",
       "3  Guard 4          4.0\n",
       "4  Guard 5          4.0\n",
       "5  Guard 6          4.0"
      ]
     },
     "execution_count": 16,
     "metadata": {},
     "output_type": "execute_result"
    }
   ],
   "source": [
    "workers = np.zeros(max_workers)\n",
    "\n",
    "i = 0\n",
    "\n",
    "while sum(workers) != hours:\n",
    "  workers[i] += 1\n",
    "  i = (i + 1) % len(workers)\n",
    "  \n",
    "pd.DataFrame([[\"Guard 1\", workers[0]]\n",
    "              , [\"Guard 2\", workers[1]]\n",
    "                ,[\"Guard 3\", workers[2]]\n",
    "             , [\"Guard 4\", workers[3]]\n",
    "             , [\"Guard 5\", workers[4]]\n",
    "             , [\"Guard 6\", workers[5]]]\n",
    "             , columns = [\"Worker\", \"1 Day Hours\"])"
   ]
  },
  {
   "cell_type": "code",
   "execution_count": 17,
   "metadata": {},
   "outputs": [],
   "source": [
    "#Set the parameters:\n",
    "base_wage = 15\n",
    "overtime_wage = 20\n",
    "overtime_hours = 8\n",
    "max_workers = 6\n",
    "\n",
    "#Weekly Costs Costs\n",
    "hours = 168\n",
    "\n",
    "wages = [base_wage, overtime_wage]"
   ]
  },
  {
   "cell_type": "code",
   "execution_count": 18,
   "metadata": {},
   "outputs": [
    {
     "data": {
      "text/html": [
       "<div>\n",
       "<style scoped>\n",
       "    .dataframe tbody tr th:only-of-type {\n",
       "        vertical-align: middle;\n",
       "    }\n",
       "\n",
       "    .dataframe tbody tr th {\n",
       "        vertical-align: top;\n",
       "    }\n",
       "\n",
       "    .dataframe thead th {\n",
       "        text-align: right;\n",
       "    }\n",
       "</style>\n",
       "<table border=\"1\" class=\"dataframe\">\n",
       "  <thead>\n",
       "    <tr style=\"text-align: right;\">\n",
       "      <th></th>\n",
       "      <th>Worker</th>\n",
       "      <th>Full Week Hours</th>\n",
       "    </tr>\n",
       "  </thead>\n",
       "  <tbody>\n",
       "    <tr>\n",
       "      <td>0</td>\n",
       "      <td>Guard 1</td>\n",
       "      <td>28.0</td>\n",
       "    </tr>\n",
       "    <tr>\n",
       "      <td>1</td>\n",
       "      <td>Guard 2</td>\n",
       "      <td>28.0</td>\n",
       "    </tr>\n",
       "    <tr>\n",
       "      <td>2</td>\n",
       "      <td>Guard 3</td>\n",
       "      <td>28.0</td>\n",
       "    </tr>\n",
       "    <tr>\n",
       "      <td>3</td>\n",
       "      <td>Guard 4</td>\n",
       "      <td>28.0</td>\n",
       "    </tr>\n",
       "    <tr>\n",
       "      <td>4</td>\n",
       "      <td>Guard 5</td>\n",
       "      <td>28.0</td>\n",
       "    </tr>\n",
       "    <tr>\n",
       "      <td>5</td>\n",
       "      <td>Guard 6</td>\n",
       "      <td>28.0</td>\n",
       "    </tr>\n",
       "  </tbody>\n",
       "</table>\n",
       "</div>"
      ],
      "text/plain": [
       "    Worker  Full Week Hours\n",
       "0  Guard 1             28.0\n",
       "1  Guard 2             28.0\n",
       "2  Guard 3             28.0\n",
       "3  Guard 4             28.0\n",
       "4  Guard 5             28.0\n",
       "5  Guard 6             28.0"
      ]
     },
     "execution_count": 18,
     "metadata": {},
     "output_type": "execute_result"
    }
   ],
   "source": [
    "workers = np.zeros(max_workers)\n",
    "\n",
    "i = 0\n",
    "\n",
    "while sum(workers) != hours:\n",
    "  workers[i] += 1\n",
    "  i = (i + 1) % len(workers)\n",
    "  \n",
    "pd.DataFrame([[\"Guard 1\", workers[0]]\n",
    "              , [\"Guard 2\", workers[1]]\n",
    "                ,[\"Guard 3\", workers[2]]\n",
    "             , [\"Guard 4\", workers[3]]\n",
    "             , [\"Guard 5\", workers[4]]\n",
    "             , [\"Guard 6\", workers[5]]]\n",
    "             , columns = [\"Worker\", \"Full Week Hours\"])"
   ]
  },
  {
   "cell_type": "markdown",
   "metadata": {},
   "source": [
    "**2. Explain your algorithm in detail.  How is it greedy?**"
   ]
  },
  {
   "cell_type": "markdown",
   "metadata": {},
   "source": [
    "In any situation, 24 hours needs to be accounted for in the solution.  The most cost-effective schedule will be one in which no worker has to work overtime.  To do this, the algorithm is set up to max at 24 hours and then adds 1 hour to the schedule for each worker until 24 hours is reached.  Keeping the hours among all workers even ensures no worker reaches overtime.  Overall, all 6 workers end up working 4 hours."
   ]
  },
  {
   "cell_type": "markdown",
   "metadata": {},
   "source": [
    "**3. What is the complexity of your solution?**"
   ]
  },
  {
   "cell_type": "markdown",
   "metadata": {},
   "source": [
    "By keeping all workers' hours equal, this solution is the simplest out of all possibilities.  This works well for scheduling one day.  However, in a realistic situation, would not go well for the whole week.  As you can see above, each worker works 28 hours, one 4 hours per day.  A more complex solution should account for mandatory days off, as well as scheduling the better guards for more hours/busier days."
   ]
  },
  {
   "cell_type": "markdown",
   "metadata": {},
   "source": [
    "**4. Did the greedy algorithm provide the best solution or could there be an alternative/better solution to your problem?  Why or why not?**"
   ]
  },
  {
   "cell_type": "markdown",
   "metadata": {},
   "source": [
    "The optimal cost for this algorithm called was $360.  Since we managed to fill 24 hours while maintaining this cost, the greedy algorithm provided the best solution.  There are still other solutions to the same problem, such as 3 workers working 8 hours each, 4 workers 6 hours each, etc.  However, this is the simplest algorithm to answer the question.  "
   ]
  },
  {
   "cell_type": "markdown",
   "metadata": {},
   "source": [
    "**5. If the scenario had different values for the inputs would your algorithm still be successful?  Eg. more than 24 hours, higher overtime, shorter shifts, or values that don't factor so nicely.  Why or why not?  What things would change the optimal output?**"
   ]
  },
  {
   "cell_type": "markdown",
   "metadata": {},
   "source": [
    "Since the ideal schedule would be based on avoiding having to pay overtime, a higher pay for overtime would not make much of a difference.  However, shorter shift times could make this more difficult depending on when overtime starts.  The biggest factor that could affect the algorithm would be constraints on each individual worker.  For example, Guard 5 could have the day off while Guard 6 is already pushing up on 40 hours for the week.  Guard 2 maybe worked 5 straight days and may not be as sharp due to lack of rest.  Performance and how busy each day is would also make the solution more difficult.  "
   ]
  },
  {
   "cell_type": "markdown",
   "metadata": {},
   "source": [
    "**6. If you were not constrained to a greedy algorithm, what approaches would you take to solve the problem?**"
   ]
  },
  {
   "cell_type": "markdown",
   "metadata": {},
   "source": [
    "A useful aspect of greedy algorithms is that finding a solution is similar to one's own problem solving thought process.  Compared to my greedy algorithm above, I would still look to avoid having the pay any workers overtime.  However, I would likely rotate the days of each worker.  For example, Guards 1, 2, and 3, would all work 8 hours Monday, Tuesday, and Wednesday, while Guards 4, 5, and 6, would work 8 hours per day Thursday, Friday, Saturday, and Sunday.  I would then rotate the weekend shifts between each guards, as well as the night shifts."
   ]
  }
 ],
 "metadata": {
  "kernelspec": {
   "display_name": "Python 3",
   "language": "python",
   "name": "python3"
  },
  "language_info": {
   "codemirror_mode": {
    "name": "ipython",
    "version": 3
   },
   "file_extension": ".py",
   "mimetype": "text/x-python",
   "name": "python",
   "nbconvert_exporter": "python",
   "pygments_lexer": "ipython3",
   "version": "3.7.4"
  }
 },
 "nbformat": 4,
 "nbformat_minor": 2
}
